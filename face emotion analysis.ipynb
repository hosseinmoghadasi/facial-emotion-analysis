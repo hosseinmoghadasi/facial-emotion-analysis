{
  "nbformat": 4,
  "nbformat_minor": 0,
  "metadata": {
    "kernelspec": {
      "display_name": "Python 3.8.5 64-bit ('base': conda)",
      "language": "python",
      "name": "python385jvsc74a57bd0332f8765c569466eb38b39add1794912d008cdd9df537ab650ff03adcbe01fce"
    },
    "language_info": {
      "codemirror_mode": {
        "name": "ipython",
        "version": 3
      },
      "file_extension": ".py",
      "mimetype": "text/x-python",
      "name": "python",
      "nbconvert_exporter": "python",
      "pygments_lexer": "ipython3",
      "version": "3.8.5"
    },
    "metadata": {
      "interpreter": {
        "hash": "332f8765c569466eb38b39add1794912d008cdd9df537ab650ff03adcbe01fce"
      }
    },
    "colab": {
      "name": "HW2_Starter2.ipynb",
      "provenance": [],
      "collapsed_sections": []
    }
  },
  "cells": [
    {
      "cell_type": "markdown",
      "metadata": {
        "id": "VXwCQhn-abgt"
      },
      "source": [
        "# Deep Neural Networks\n",
        "Welcome to Homework 2  &#128522;&#9996;"
      ]
    },
    {
      "cell_type": "code",
      "metadata": {
        "id": "iGDCHVgzabg4"
      },
      "source": [
        "import numpy as np\n",
        "import matplotlib.pyplot as plt\n",
        "%matplotlib inline\n",
        "from tensorflow.keras.layers import Dense, Dropout, Activation, Flatten\n",
        "\n",
        "from tensorflow.keras import Sequential\n",
        "\n",
        "from tensorflow.keras.optimizers import Adam ,SGD,RMSprop,Adagrad \n",
        "from tensorflow.keras.losses import categorical_crossentropy\n",
        "\n"
      ],
      "execution_count": 141,
      "outputs": []
    },
    {
      "cell_type": "code",
      "metadata": {
        "id": "sW5m88-qabg6",
        "colab": {
          "resources": {
            "http://localhost:8080/nbextensions/google.colab/files.js": {
              "data": "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",
              "ok": true,
              "headers": [
                [
                  "content-type",
                  "application/javascript"
                ]
              ],
              "status": 200,
              "status_text": "OK"
            }
          },
          "base_uri": "https://localhost:8080/",
          "height": 376
        },
        "outputId": "20c1f678-b0e8-4de5-c714-78794e83e015"
      },
      "source": [
        "# from google.colab import files\n",
        "\n",
        "# uploaded = files.upload()"
      ],
      "execution_count": 256,
      "outputs": [
        {
          "output_type": "display_data",
          "data": {
            "text/html": [
              "\n",
              "     <input type=\"file\" id=\"files-bc3d47d5-77f2-44e1-81b4-bdbfd7e28259\" name=\"files[]\" multiple disabled\n",
              "        style=\"border:none\" />\n",
              "     <output id=\"result-bc3d47d5-77f2-44e1-81b4-bdbfd7e28259\">\n",
              "      Upload widget is only available when the cell has been executed in the\n",
              "      current browser session. Please rerun this cell to enable.\n",
              "      </output>\n",
              "      <script src=\"/nbextensions/google.colab/files.js\"></script> "
            ],
            "text/plain": [
              "<IPython.core.display.HTML object>"
            ]
          },
          "metadata": {
            "tags": []
          }
        },
        {
          "output_type": "error",
          "ename": "KeyboardInterrupt",
          "evalue": "ignored",
          "traceback": [
            "\u001b[0;31m---------------------------------------------------------------------------\u001b[0m",
            "\u001b[0;31mKeyboardInterrupt\u001b[0m                         Traceback (most recent call last)",
            "\u001b[0;32m<ipython-input-256-72edf3658aa1>\u001b[0m in \u001b[0;36m<module>\u001b[0;34m()\u001b[0m\n\u001b[1;32m      1\u001b[0m \u001b[0;32mfrom\u001b[0m \u001b[0mgoogle\u001b[0m\u001b[0;34m.\u001b[0m\u001b[0mcolab\u001b[0m \u001b[0;32mimport\u001b[0m \u001b[0mfiles\u001b[0m\u001b[0;34m\u001b[0m\u001b[0;34m\u001b[0m\u001b[0m\n\u001b[1;32m      2\u001b[0m \u001b[0;34m\u001b[0m\u001b[0m\n\u001b[0;32m----> 3\u001b[0;31m \u001b[0muploaded\u001b[0m \u001b[0;34m=\u001b[0m \u001b[0mfiles\u001b[0m\u001b[0;34m.\u001b[0m\u001b[0mupload\u001b[0m\u001b[0;34m(\u001b[0m\u001b[0;34m)\u001b[0m\u001b[0;34m\u001b[0m\u001b[0;34m\u001b[0m\u001b[0m\n\u001b[0m",
            "\u001b[0;32m/usr/local/lib/python3.7/dist-packages/google/colab/files.py\u001b[0m in \u001b[0;36mupload\u001b[0;34m()\u001b[0m\n\u001b[1;32m     62\u001b[0m   result = _output.eval_js(\n\u001b[1;32m     63\u001b[0m       'google.colab._files._uploadFiles(\"{input_id}\", \"{output_id}\")'.format(\n\u001b[0;32m---> 64\u001b[0;31m           input_id=input_id, output_id=output_id))\n\u001b[0m\u001b[1;32m     65\u001b[0m   \u001b[0mfiles\u001b[0m \u001b[0;34m=\u001b[0m \u001b[0m_collections\u001b[0m\u001b[0;34m.\u001b[0m\u001b[0mdefaultdict\u001b[0m\u001b[0;34m(\u001b[0m\u001b[0m_six\u001b[0m\u001b[0;34m.\u001b[0m\u001b[0mbinary_type\u001b[0m\u001b[0;34m)\u001b[0m\u001b[0;34m\u001b[0m\u001b[0;34m\u001b[0m\u001b[0m\n\u001b[1;32m     66\u001b[0m   \u001b[0;31m# Mapping from original filename to filename as saved locally.\u001b[0m\u001b[0;34m\u001b[0m\u001b[0;34m\u001b[0m\u001b[0;34m\u001b[0m\u001b[0m\n",
            "\u001b[0;32m/usr/local/lib/python3.7/dist-packages/google/colab/output/_js.py\u001b[0m in \u001b[0;36meval_js\u001b[0;34m(script, ignore_result, timeout_sec)\u001b[0m\n\u001b[1;32m     38\u001b[0m   \u001b[0;32mif\u001b[0m \u001b[0mignore_result\u001b[0m\u001b[0;34m:\u001b[0m\u001b[0;34m\u001b[0m\u001b[0;34m\u001b[0m\u001b[0m\n\u001b[1;32m     39\u001b[0m     \u001b[0;32mreturn\u001b[0m\u001b[0;34m\u001b[0m\u001b[0;34m\u001b[0m\u001b[0m\n\u001b[0;32m---> 40\u001b[0;31m   \u001b[0;32mreturn\u001b[0m \u001b[0m_message\u001b[0m\u001b[0;34m.\u001b[0m\u001b[0mread_reply_from_input\u001b[0m\u001b[0;34m(\u001b[0m\u001b[0mrequest_id\u001b[0m\u001b[0;34m,\u001b[0m \u001b[0mtimeout_sec\u001b[0m\u001b[0;34m)\u001b[0m\u001b[0;34m\u001b[0m\u001b[0;34m\u001b[0m\u001b[0m\n\u001b[0m\u001b[1;32m     41\u001b[0m \u001b[0;34m\u001b[0m\u001b[0m\n\u001b[1;32m     42\u001b[0m \u001b[0;34m\u001b[0m\u001b[0m\n",
            "\u001b[0;32m/usr/local/lib/python3.7/dist-packages/google/colab/_message.py\u001b[0m in \u001b[0;36mread_reply_from_input\u001b[0;34m(message_id, timeout_sec)\u001b[0m\n\u001b[1;32m     99\u001b[0m     \u001b[0mreply\u001b[0m \u001b[0;34m=\u001b[0m \u001b[0m_read_next_input_message\u001b[0m\u001b[0;34m(\u001b[0m\u001b[0;34m)\u001b[0m\u001b[0;34m\u001b[0m\u001b[0;34m\u001b[0m\u001b[0m\n\u001b[1;32m    100\u001b[0m     \u001b[0;32mif\u001b[0m \u001b[0mreply\u001b[0m \u001b[0;34m==\u001b[0m \u001b[0m_NOT_READY\u001b[0m \u001b[0;32mor\u001b[0m \u001b[0;32mnot\u001b[0m \u001b[0misinstance\u001b[0m\u001b[0;34m(\u001b[0m\u001b[0mreply\u001b[0m\u001b[0;34m,\u001b[0m \u001b[0mdict\u001b[0m\u001b[0;34m)\u001b[0m\u001b[0;34m:\u001b[0m\u001b[0;34m\u001b[0m\u001b[0;34m\u001b[0m\u001b[0m\n\u001b[0;32m--> 101\u001b[0;31m       \u001b[0mtime\u001b[0m\u001b[0;34m.\u001b[0m\u001b[0msleep\u001b[0m\u001b[0;34m(\u001b[0m\u001b[0;36m0.025\u001b[0m\u001b[0;34m)\u001b[0m\u001b[0;34m\u001b[0m\u001b[0;34m\u001b[0m\u001b[0m\n\u001b[0m\u001b[1;32m    102\u001b[0m       \u001b[0;32mcontinue\u001b[0m\u001b[0;34m\u001b[0m\u001b[0;34m\u001b[0m\u001b[0m\n\u001b[1;32m    103\u001b[0m     if (reply.get('type') == 'colab_reply' and\n",
            "\u001b[0;31mKeyboardInterrupt\u001b[0m: "
          ]
        }
      ]
    },
    {
      "cell_type": "markdown",
      "metadata": {
        "id": "jTQF913zabg7"
      },
      "source": [
        "We will start by loading the packages:"
      ]
    },
    {
      "cell_type": "markdown",
      "metadata": {
        "id": "NLjRN7u4abg7"
      },
      "source": [
        "Then, we load the dataset:"
      ]
    },
    {
      "cell_type": "code",
      "metadata": {
        "id": "xJdmSlsmabg8"
      },
      "source": [
        "def load_data(file_name):\n",
        "    npzfile = np.load(file_name)\n",
        "\n",
        "    X_train = npzfile[\"inputs_train\"].T / 255.0\n",
        "    X_valid = npzfile[\"inputs_valid\"].T / 255.0\n",
        "    X_test = npzfile[\"inputs_test\"].T / 255.0\n",
        "    Y_train = npzfile[\"target_train\"].tolist()\n",
        "    Y_valid = npzfile[\"target_valid\"].tolist()\n",
        "    Y_test = npzfile[\"target_test\"].tolist()\n",
        "\n",
        "    num_class = max(Y_train + Y_valid + Y_test) + 1\n",
        "    Y_train_1hot = np.zeros([num_class, len(Y_train)])\n",
        "    Y_valid_1hot = np.zeros([num_class, len(Y_valid)])\n",
        "    Y_test_1hot = np.zeros([num_class, len(Y_test)])\n",
        "\n",
        "    for ii, xx in enumerate(Y_train):\n",
        "        Y_train_1hot[xx, ii] = 1.0\n",
        "\n",
        "    for ii, xx in enumerate(Y_valid):\n",
        "        Y_valid_1hot[xx, ii] = 1.0\n",
        "\n",
        "    for ii, xx in enumerate(Y_test):\n",
        "        Y_test_1hot[xx, ii] = 1.0\n",
        "\n",
        "    \n",
        "    return X_train.T, X_valid.T, X_test.T, Y_train_1hot.T, Y_valid_1hot.T, Y_test_1hot.T\n"
      ],
      "execution_count": 117,
      "outputs": []
    },
    {
      "cell_type": "markdown",
      "metadata": {
        "id": "WboLwUbLabg9"
      },
      "source": [
        "Run the next cell to load the dataset you are going to use."
      ]
    },
    {
      "cell_type": "code",
      "metadata": {
        "id": "KWsh2nUTabg-"
      },
      "source": [
        "X_train, X_valid, X_test, Y_train, Y_valid, Y_test = load_data(\"/data/toronto_face.npz\")"
      ],
      "execution_count": 257,
      "outputs": []
    },
    {
      "cell_type": "markdown",
      "metadata": {
        "id": "LjHY7YDHEOr_"
      },
      "source": [
        "<div dir=rtl>\n",
        "\n",
        "برای انجام اعمال رو دیتاست باید کمی روی ساختار داده ها تغییر ایجاد کنیم.\n",
        "اینکار به اینصورت انجام شده است که داده ها در هر سه حالت آموزش ، ارزیابی و تست به صورت آرایه های سه بعدی در آمده اند\n",
        "</div>"
      ]
    },
    {
      "cell_type": "code",
      "metadata": {
        "colab": {
          "base_uri": "https://localhost:8080/"
        },
        "id": "GNtqBVU4abg_",
        "outputId": "4d7b2520-f94a-4481-baee-efc6717cfd8f"
      },
      "source": [
        "X_train = X_train.reshape((3374,48,48))\n",
        "X_valid = X_valid.reshape((419 , 48 , 48))\n",
        "X_test = X_test.reshape((385 , 48 , 48))\n",
        "\n",
        "print(X_train[0].shape)\n",
        "print(Y_train.shape)\n",
        "print(Y_train[110])"
      ],
      "execution_count": 258,
      "outputs": [
        {
          "output_type": "stream",
          "text": [
            "(48, 48)\n",
            "(3374, 7)\n",
            "[0. 0. 0. 1. 0. 0. 0.]\n"
          ],
          "name": "stdout"
        }
      ]
    },
    {
      "cell_type": "markdown",
      "metadata": {
        "id": "vPcQ-QmXmGdL"
      },
      "source": [
        "<div dir=rtl>\n",
        "برای استفاده از کلاس keras-metrics استفاده شده است. ابتدا آن را نصب و سپس استفاده میکنیم\n",
        "این قسمت برای اجرا در گوگل کولب است ، اگر از کولب استفاده نمیکنید این قسمت را اجرا نکنید\n",
        "</div>"
      ]
    },
    {
      "cell_type": "code",
      "metadata": {
        "colab": {
          "base_uri": "https://localhost:8080/"
        },
        "id": "2r5THdN3clxN",
        "outputId": "0488d588-e09d-48f1-aa73-9838d76bcef4"
      },
      "source": [
        "!pip install keras_metrics\n",
        "!pip install keras-metrics\n"
      ],
      "execution_count": 10,
      "outputs": [
        {
          "output_type": "stream",
          "text": [
            "Collecting keras_metrics\n",
            "  Downloading https://files.pythonhosted.org/packages/32/c9/a87420da8e73de944e63a8e9cdcfb1f03ca31a7c4cdcdbd45d2cdf13275a/keras_metrics-1.1.0-py2.py3-none-any.whl\n",
            "Requirement already satisfied: Keras>=2.1.5 in /usr/local/lib/python3.7/dist-packages (from keras_metrics) (2.4.3)\n",
            "Requirement already satisfied: scipy>=0.14 in /usr/local/lib/python3.7/dist-packages (from Keras>=2.1.5->keras_metrics) (1.4.1)\n",
            "Requirement already satisfied: h5py in /usr/local/lib/python3.7/dist-packages (from Keras>=2.1.5->keras_metrics) (2.10.0)\n",
            "Requirement already satisfied: pyyaml in /usr/local/lib/python3.7/dist-packages (from Keras>=2.1.5->keras_metrics) (3.13)\n",
            "Requirement already satisfied: numpy>=1.9.1 in /usr/local/lib/python3.7/dist-packages (from Keras>=2.1.5->keras_metrics) (1.19.5)\n",
            "Requirement already satisfied: six in /usr/local/lib/python3.7/dist-packages (from h5py->Keras>=2.1.5->keras_metrics) (1.15.0)\n",
            "Installing collected packages: keras-metrics\n",
            "Successfully installed keras-metrics-1.1.0\n",
            "Requirement already satisfied: keras-metrics in /usr/local/lib/python3.7/dist-packages (1.1.0)\n",
            "Requirement already satisfied: Keras>=2.1.5 in /usr/local/lib/python3.7/dist-packages (from keras-metrics) (2.4.3)\n",
            "Requirement already satisfied: scipy>=0.14 in /usr/local/lib/python3.7/dist-packages (from Keras>=2.1.5->keras-metrics) (1.4.1)\n",
            "Requirement already satisfied: h5py in /usr/local/lib/python3.7/dist-packages (from Keras>=2.1.5->keras-metrics) (2.10.0)\n",
            "Requirement already satisfied: pyyaml in /usr/local/lib/python3.7/dist-packages (from Keras>=2.1.5->keras-metrics) (3.13)\n",
            "Requirement already satisfied: numpy>=1.9.1 in /usr/local/lib/python3.7/dist-packages (from Keras>=2.1.5->keras-metrics) (1.19.5)\n",
            "Requirement already satisfied: six in /usr/local/lib/python3.7/dist-packages (from h5py->Keras>=2.1.5->keras-metrics) (1.15.0)\n"
          ],
          "name": "stdout"
        }
      ]
    },
    {
      "cell_type": "markdown",
      "metadata": {
        "id": "AdTQYuaSabhD"
      },
      "source": [
        "From now implement your model.\n",
        "<br>\n",
        "Please add cells and explain yours developing steps and your results.\n",
        "\n",
        "<div dir='rtl'style=\"text-align: right;font-family:verdana;\">\n",
        "برای توضیحات از زبان فارسی استفاده نمایید.\n",
        "<br>\n",
        "موفق باشید\n",
        "\n",
        "</div>"
      ]
    },
    {
      "cell_type": "markdown",
      "metadata": {
        "id": "ya7TMttSWABX"
      },
      "source": [
        "<div dir=rtl>\n",
        "در قسمت زیر ساختار کلی شبکه تعریف شده است\n",
        "<br>\n",
        "مدل ساخته شده یک مدل fully connected است که ابتدا تصویر را به صورت خطی به شبکه می دهد\n",
        "<br>\n",
        "تابع فعالساز استفاده شده در این شبکه relu است\n",
        "<br>\n",
        "این شبکه سه لایه پنهان با به ترتیب ۱۰۰ و ۷۰ و ۵۰ نرون است.\n",
        "<br>\n",
        "شبکه را میشد بزرگتر گرفت و دقت را برای داده های آموزشی بالا برد اما برای جلوگیری از بیش برازش بیشتر این کار انجام نشده است.\n",
        "</div>"
      ]
    },
    {
      "cell_type": "code",
      "metadata": {
        "id": "Zh8jw92UabhF"
      },
      "source": [
        "\n",
        "import keras\n",
        "import keras_metrics as km\n",
        "model= Sequential()\n",
        "model.add(Flatten(input_shape=(48,48)))\n",
        "model.add(Dense(100 , activation='relu'))\n",
        "\n",
        "model.add(Dense(70 , activation='relu'))\n",
        "\n",
        "model.add(Dense(50 , activation='relu'))\n",
        "\n",
        "model.add(Dense(7 , activation='softmax'))\n"
      ],
      "execution_count": 325,
      "outputs": []
    },
    {
      "cell_type": "markdown",
      "metadata": {
        "id": "TMVPgGikW1Pb"
      },
      "source": [
        "<div dir=rtl>\n",
        "تابع بهینه ساز استفاده شده در این شبکه آدام است ، هرچند که در ادامه گزارش فعال ساز های دیگری نیز تست شده است اما آدام بهترین گزینه برای داده ها بود\n",
        "<br>\n",
        "\n",
        "</div>"
      ]
    },
    {
      "cell_type": "code",
      "metadata": {
        "id": "tLTjWNoyabhG"
      },
      "source": [
        "model.compile(\n",
        "    optimizer=Adam(learning_rate=0.001),\n",
        "    loss=categorical_crossentropy,\n",
        "    metrics=['accuracy', km.categorical_precision(), km.categorical_recall(),km.categorical_f1_score()],\n",
        ")\n"
      ],
      "execution_count": 320,
      "outputs": []
    },
    {
      "cell_type": "code",
      "metadata": {
        "colab": {
          "base_uri": "https://localhost:8080/"
        },
        "id": "KLp11Il1abhG",
        "outputId": "b3e61751-7213-4077-98fa-f8c53f8df0ce"
      },
      "source": [
        "history = model.fit(X_train, Y_train,\n",
        "          batch_size=128, epochs=200,\n",
        "          verbose=2,\n",
        "          validation_data=(X_valid, Y_valid))"
      ],
      "execution_count": 321,
      "outputs": [
        {
          "output_type": "stream",
          "text": [
            "Epoch 1/200\n",
            "WARNING:tensorflow:`add_update` `inputs` kwarg has been deprecated. You no longer need to pass a value to `inputs` as it is being automatically inferred.\n",
            "WARNING:tensorflow:`add_update` `inputs` kwarg has been deprecated. You no longer need to pass a value to `inputs` as it is being automatically inferred.\n",
            "WARNING:tensorflow:`add_update` `inputs` kwarg has been deprecated. You no longer need to pass a value to `inputs` as it is being automatically inferred.\n",
            "WARNING:tensorflow:`add_update` `inputs` kwarg has been deprecated. You no longer need to pass a value to `inputs` as it is being automatically inferred.\n",
            "WARNING:tensorflow:`add_update` `inputs` kwarg has been deprecated. You no longer need to pass a value to `inputs` as it is being automatically inferred.\n",
            "WARNING:tensorflow:`add_update` `inputs` kwarg has been deprecated. You no longer need to pass a value to `inputs` as it is being automatically inferred.\n",
            "WARNING:tensorflow:`add_update` `inputs` kwarg has been deprecated. You no longer need to pass a value to `inputs` as it is being automatically inferred.\n",
            "WARNING:tensorflow:`add_update` `inputs` kwarg has been deprecated. You no longer need to pass a value to `inputs` as it is being automatically inferred.\n"
          ],
          "name": "stdout"
        },
        {
          "output_type": "stream",
          "text": [
            "/usr/local/lib/python3.7/dist-packages/tensorflow/python/keras/engine/base_layer.py:1402: UserWarning: `layer.updates` will be removed in a future version. This property should not be used in TensorFlow 2.0, as `updates` are applied automatically.\n",
            "  warnings.warn('`layer.updates` will be removed in a future version. '\n"
          ],
          "name": "stderr"
        },
        {
          "output_type": "stream",
          "text": [
            "WARNING:tensorflow:`add_update` `inputs` kwarg has been deprecated. You no longer need to pass a value to `inputs` as it is being automatically inferred.\n",
            "WARNING:tensorflow:`add_update` `inputs` kwarg has been deprecated. You no longer need to pass a value to `inputs` as it is being automatically inferred.\n",
            "WARNING:tensorflow:`add_update` `inputs` kwarg has been deprecated. You no longer need to pass a value to `inputs` as it is being automatically inferred.\n",
            "WARNING:tensorflow:`add_update` `inputs` kwarg has been deprecated. You no longer need to pass a value to `inputs` as it is being automatically inferred.\n",
            "WARNING:tensorflow:`add_update` `inputs` kwarg has been deprecated. You no longer need to pass a value to `inputs` as it is being automatically inferred.\n",
            "WARNING:tensorflow:`add_update` `inputs` kwarg has been deprecated. You no longer need to pass a value to `inputs` as it is being automatically inferred.\n",
            "WARNING:tensorflow:`add_update` `inputs` kwarg has been deprecated. You no longer need to pass a value to `inputs` as it is being automatically inferred.\n",
            "WARNING:tensorflow:`add_update` `inputs` kwarg has been deprecated. You no longer need to pass a value to `inputs` as it is being automatically inferred.\n",
            "WARNING:tensorflow:`add_update` `inputs` kwarg has been deprecated. You no longer need to pass a value to `inputs` as it is being automatically inferred.\n",
            "WARNING:tensorflow:`add_update` `inputs` kwarg has been deprecated. You no longer need to pass a value to `inputs` as it is being automatically inferred.\n",
            "WARNING:tensorflow:`add_update` `inputs` kwarg has been deprecated. You no longer need to pass a value to `inputs` as it is being automatically inferred.\n",
            "WARNING:tensorflow:`add_update` `inputs` kwarg has been deprecated. You no longer need to pass a value to `inputs` as it is being automatically inferred.\n",
            "WARNING:tensorflow:`add_update` `inputs` kwarg has been deprecated. You no longer need to pass a value to `inputs` as it is being automatically inferred.\n",
            "WARNING:tensorflow:`add_update` `inputs` kwarg has been deprecated. You no longer need to pass a value to `inputs` as it is being automatically inferred.\n",
            "WARNING:tensorflow:`add_update` `inputs` kwarg has been deprecated. You no longer need to pass a value to `inputs` as it is being automatically inferred.\n",
            "WARNING:tensorflow:`add_update` `inputs` kwarg has been deprecated. You no longer need to pass a value to `inputs` as it is being automatically inferred.\n",
            "27/27 - 2s - loss: 1.8703 - accuracy: 0.2706 - precision: 0.0000e+00 - recall: 0.0000e+00 - f1_score: 0.0000e+00 - val_loss: 1.7705 - val_accuracy: 0.4081 - val_precision: 0.0000e+00 - val_recall: 0.0000e+00 - val_f1_score: 0.0000e+00\n",
            "Epoch 2/200\n",
            "27/27 - 0s - loss: 1.6819 - accuracy: 0.3800 - precision: 0.0000e+00 - recall: 0.0000e+00 - f1_score: 0.0000e+00 - val_loss: 1.5579 - val_accuracy: 0.4630 - val_precision: 0.0000e+00 - val_recall: 0.0000e+00 - val_f1_score: 0.0000e+00\n",
            "Epoch 3/200\n",
            "27/27 - 0s - loss: 1.5106 - accuracy: 0.4606 - precision: 0.0000e+00 - recall: 0.0000e+00 - f1_score: 0.0000e+00 - val_loss: 1.3961 - val_accuracy: 0.4940 - val_precision: 0.0000e+00 - val_recall: 0.0000e+00 - val_f1_score: 0.0000e+00\n",
            "Epoch 4/200\n",
            "27/27 - 0s - loss: 1.3927 - accuracy: 0.5133 - precision: 0.5741 - recall: 0.0030 - f1_score: 0.0061 - val_loss: 1.3160 - val_accuracy: 0.5298 - val_precision: 0.0000e+00 - val_recall: 0.0000e+00 - val_f1_score: 0.0000e+00\n",
            "Epoch 5/200\n",
            "27/27 - 0s - loss: 1.3356 - accuracy: 0.5264 - precision: 0.3450 - recall: 0.0138 - f1_score: 0.0264 - val_loss: 1.2328 - val_accuracy: 0.5585 - val_precision: 0.3333 - val_recall: 0.0236 - val_f1_score: 0.0440\n",
            "Epoch 6/200\n",
            "27/27 - 0s - loss: 1.2186 - accuracy: 0.5750 - precision: 0.3052 - recall: 0.0207 - f1_score: 0.0386 - val_loss: 1.1863 - val_accuracy: 0.5704 - val_precision: 0.7738 - val_recall: 0.1281 - val_f1_score: 0.2189\n",
            "Epoch 7/200\n",
            "27/27 - 0s - loss: 1.2039 - accuracy: 0.5771 - precision: 0.6078 - recall: 0.1044 - f1_score: 0.1778 - val_loss: 1.1334 - val_accuracy: 0.5800 - val_precision: 0.7738 - val_recall: 0.1281 - val_f1_score: 0.2189\n",
            "Epoch 8/200\n",
            "27/27 - 0s - loss: 1.1464 - accuracy: 0.5919 - precision: 0.6095 - recall: 0.0920 - f1_score: 0.1593 - val_loss: 1.0813 - val_accuracy: 0.6038 - val_precision: 0.6802 - val_recall: 0.3882 - val_f1_score: 0.4922\n",
            "Epoch 9/200\n",
            "27/27 - 0s - loss: 1.1098 - accuracy: 0.6023 - precision: 0.6785 - recall: 0.1745 - f1_score: 0.2717 - val_loss: 1.0537 - val_accuracy: 0.6205 - val_precision: 0.7063 - val_recall: 0.3551 - val_f1_score: 0.4673\n",
            "Epoch 10/200\n",
            "27/27 - 0s - loss: 1.0885 - accuracy: 0.6114 - precision: 0.6686 - recall: 0.2162 - f1_score: 0.3263 - val_loss: 1.0320 - val_accuracy: 0.6134 - val_precision: 0.6487 - val_recall: 0.4674 - val_f1_score: 0.5376\n",
            "Epoch 11/200\n",
            "27/27 - 0s - loss: 1.0769 - accuracy: 0.6037 - precision: 0.5837 - recall: 0.2692 - f1_score: 0.3584 - val_loss: 1.0543 - val_accuracy: 0.6062 - val_precision: 0.7796 - val_recall: 0.4342 - val_f1_score: 0.5506\n",
            "Epoch 12/200\n",
            "27/27 - 0s - loss: 1.0496 - accuracy: 0.6236 - precision: 0.7106 - recall: 0.1972 - f1_score: 0.3076 - val_loss: 0.9799 - val_accuracy: 0.6253 - val_precision: 0.7550 - val_recall: 0.3764 - val_f1_score: 0.4970\n",
            "Epoch 13/200\n",
            "27/27 - 0s - loss: 1.0417 - accuracy: 0.6206 - precision: 0.7035 - recall: 0.2687 - f1_score: 0.3876 - val_loss: 0.9980 - val_accuracy: 0.6301 - val_precision: 0.6882 - val_recall: 0.4674 - val_f1_score: 0.5523\n",
            "Epoch 14/200\n",
            "27/27 - 0s - loss: 1.0131 - accuracy: 0.6346 - precision: 0.6880 - recall: 0.3587 - f1_score: 0.4676 - val_loss: 0.9657 - val_accuracy: 0.6563 - val_precision: 1.0000 - val_recall: 0.1981 - val_f1_score: 0.3257\n",
            "Epoch 15/200\n",
            "27/27 - 0s - loss: 0.9584 - accuracy: 0.6523 - precision: 0.6071 - recall: 0.2214 - f1_score: 0.3228 - val_loss: 0.9798 - val_accuracy: 0.6325 - val_precision: 0.7083 - val_recall: 0.1945 - val_f1_score: 0.3047\n",
            "Epoch 16/200\n",
            "27/27 - 0s - loss: 0.9588 - accuracy: 0.6503 - precision: 0.7677 - recall: 0.3061 - f1_score: 0.4346 - val_loss: 1.0758 - val_accuracy: 0.6277 - val_precision: 0.5627 - val_recall: 0.2797 - val_f1_score: 0.3727\n",
            "Epoch 17/200\n",
            "27/27 - 0s - loss: 0.9345 - accuracy: 0.6624 - precision: 0.7264 - recall: 0.4170 - f1_score: 0.5267 - val_loss: 0.9281 - val_accuracy: 0.6492 - val_precision: 1.0000 - val_recall: 0.0700 - val_f1_score: 0.1300\n",
            "Epoch 18/200\n",
            "27/27 - 0s - loss: 0.8913 - accuracy: 0.6838 - precision: 0.7525 - recall: 0.3219 - f1_score: 0.4406 - val_loss: 0.9744 - val_accuracy: 0.6563 - val_precision: 0.9427 - val_recall: 0.3571 - val_f1_score: 0.5179\n",
            "Epoch 19/200\n",
            "27/27 - 0s - loss: 0.9272 - accuracy: 0.6680 - precision: 0.7185 - recall: 0.3384 - f1_score: 0.4583 - val_loss: 0.9267 - val_accuracy: 0.6563 - val_precision: 0.7569 - val_recall: 0.4092 - val_f1_score: 0.5278\n",
            "Epoch 20/200\n",
            "27/27 - 0s - loss: 0.8863 - accuracy: 0.6805 - precision: 0.7707 - recall: 0.2973 - f1_score: 0.4269 - val_loss: 0.8974 - val_accuracy: 0.6396 - val_precision: 0.5896 - val_recall: 0.4674 - val_f1_score: 0.5158\n",
            "Epoch 21/200\n",
            "27/27 - 0s - loss: 0.9023 - accuracy: 0.6781 - precision: 0.7157 - recall: 0.4275 - f1_score: 0.5287 - val_loss: 0.9174 - val_accuracy: 0.6563 - val_precision: 0.5018 - val_recall: 0.5276 - val_f1_score: 0.5132\n",
            "Epoch 22/200\n",
            "27/27 - 0s - loss: 0.8633 - accuracy: 0.6864 - precision: 0.7724 - recall: 0.4426 - f1_score: 0.5603 - val_loss: 0.8320 - val_accuracy: 0.6826 - val_precision: 0.6329 - val_recall: 0.4210 - val_f1_score: 0.5014\n",
            "Epoch 23/200\n",
            "27/27 - 0s - loss: 0.8315 - accuracy: 0.6947 - precision: 0.7448 - recall: 0.3884 - f1_score: 0.5098 - val_loss: 0.8335 - val_accuracy: 0.6611 - val_precision: 0.7569 - val_recall: 0.4092 - val_f1_score: 0.5278\n",
            "Epoch 24/200\n",
            "27/27 - 0s - loss: 0.8385 - accuracy: 0.6974 - precision: 0.8078 - recall: 0.4243 - f1_score: 0.5532 - val_loss: 0.8222 - val_accuracy: 0.6730 - val_precision: 0.6696 - val_recall: 0.3628 - val_f1_score: 0.4680\n",
            "Epoch 25/200\n",
            "27/27 - 0s - loss: 0.7950 - accuracy: 0.7187 - precision: 0.7923 - recall: 0.4673 - f1_score: 0.5859 - val_loss: 0.8466 - val_accuracy: 0.6683 - val_precision: 0.6696 - val_recall: 0.3628 - val_f1_score: 0.4680\n",
            "Epoch 26/200\n",
            "27/27 - 0s - loss: 0.7968 - accuracy: 0.7116 - precision: 0.7876 - recall: 0.4433 - f1_score: 0.5645 - val_loss: 0.8429 - val_accuracy: 0.6969 - val_precision: 0.7662 - val_recall: 0.3143 - val_f1_score: 0.4443\n",
            "Epoch 27/200\n",
            "27/27 - 0s - loss: 0.7880 - accuracy: 0.7205 - precision: 0.7908 - recall: 0.4589 - f1_score: 0.5787 - val_loss: 0.9275 - val_accuracy: 0.6444 - val_precision: 0.7346 - val_recall: 0.4092 - val_f1_score: 0.5197\n",
            "Epoch 28/200\n",
            "27/27 - 0s - loss: 0.8702 - accuracy: 0.6915 - precision: 0.7547 - recall: 0.3663 - f1_score: 0.4918 - val_loss: 0.8507 - val_accuracy: 0.6539 - val_precision: 0.6301 - val_recall: 0.3746 - val_f1_score: 0.4688\n",
            "Epoch 29/200\n",
            "27/27 - 0s - loss: 0.8249 - accuracy: 0.6935 - precision: 0.7967 - recall: 0.3616 - f1_score: 0.4917 - val_loss: 0.8558 - val_accuracy: 0.6850 - val_precision: 0.7251 - val_recall: 0.3475 - val_f1_score: 0.4680\n",
            "Epoch 30/200\n",
            "27/27 - 0s - loss: 0.7558 - accuracy: 0.7258 - precision: 0.8181 - recall: 0.4708 - f1_score: 0.5956 - val_loss: 0.7887 - val_accuracy: 0.6874 - val_precision: 0.6528 - val_recall: 0.4792 - val_f1_score: 0.5504\n",
            "Epoch 31/200\n",
            "27/27 - 0s - loss: 0.7605 - accuracy: 0.7258 - precision: 0.7966 - recall: 0.4509 - f1_score: 0.5755 - val_loss: 0.9183 - val_accuracy: 0.6778 - val_precision: 0.5588 - val_recall: 0.4659 - val_f1_score: 0.5052\n",
            "Epoch 32/200\n",
            "27/27 - 0s - loss: 0.8054 - accuracy: 0.7113 - precision: 0.7820 - recall: 0.4990 - f1_score: 0.6084 - val_loss: 0.9018 - val_accuracy: 0.6539 - val_precision: 0.8955 - val_recall: 0.3628 - val_f1_score: 0.5163\n",
            "Epoch 33/200\n",
            "27/27 - 0s - loss: 0.7406 - accuracy: 0.7386 - precision: 0.7893 - recall: 0.4545 - f1_score: 0.5732 - val_loss: 0.8297 - val_accuracy: 0.7041 - val_precision: 0.6083 - val_recall: 0.3628 - val_f1_score: 0.4514\n",
            "Epoch 34/200\n",
            "27/27 - 0s - loss: 0.7530 - accuracy: 0.7291 - precision: 0.7976 - recall: 0.4591 - f1_score: 0.5814 - val_loss: 0.8367 - val_accuracy: 0.6993 - val_precision: 0.7730 - val_recall: 0.3240 - val_f1_score: 0.4551\n",
            "Epoch 35/200\n",
            "27/27 - 0s - loss: 0.7145 - accuracy: 0.7451 - precision: 0.8333 - recall: 0.4515 - f1_score: 0.5820 - val_loss: 0.7397 - val_accuracy: 0.7232 - val_precision: 0.6786 - val_recall: 0.4092 - val_f1_score: 0.5068\n",
            "Epoch 36/200\n",
            "27/27 - 0s - loss: 0.7028 - accuracy: 0.7487 - precision: 0.7996 - recall: 0.4916 - f1_score: 0.6079 - val_loss: 0.8189 - val_accuracy: 0.6874 - val_precision: 0.6592 - val_recall: 0.3746 - val_f1_score: 0.4761\n",
            "Epoch 37/200\n",
            "27/27 - 0s - loss: 0.7001 - accuracy: 0.7356 - precision: 0.7972 - recall: 0.5152 - f1_score: 0.6245 - val_loss: 0.8695 - val_accuracy: 0.6897 - val_precision: 0.6445 - val_recall: 0.4445 - val_f1_score: 0.5231\n",
            "Epoch 38/200\n",
            "27/27 - 0s - loss: 0.7427 - accuracy: 0.7374 - precision: 0.7574 - recall: 0.5017 - f1_score: 0.6017 - val_loss: 0.7882 - val_accuracy: 0.6921 - val_precision: 0.8295 - val_recall: 0.3510 - val_f1_score: 0.4920\n",
            "Epoch 39/200\n",
            "27/27 - 0s - loss: 0.6756 - accuracy: 0.7650 - precision: 0.7819 - recall: 0.5155 - f1_score: 0.6200 - val_loss: 0.7842 - val_accuracy: 0.6969 - val_precision: 0.6530 - val_recall: 0.6461 - val_f1_score: 0.6468\n",
            "Epoch 40/200\n",
            "27/27 - 0s - loss: 0.6744 - accuracy: 0.7537 - precision: 0.7604 - recall: 0.5361 - f1_score: 0.6269 - val_loss: 0.7365 - val_accuracy: 0.7160 - val_precision: 0.7058 - val_recall: 0.3628 - val_f1_score: 0.4783\n",
            "Epoch 41/200\n",
            "27/27 - 0s - loss: 0.6570 - accuracy: 0.7694 - precision: 0.7891 - recall: 0.5483 - f1_score: 0.6457 - val_loss: 0.7649 - val_accuracy: 0.7399 - val_precision: 0.6962 - val_recall: 0.4563 - val_f1_score: 0.5506\n",
            "Epoch 42/200\n",
            "27/27 - 0s - loss: 0.6404 - accuracy: 0.7715 - precision: 0.8590 - recall: 0.5341 - f1_score: 0.6574 - val_loss: 0.7809 - val_accuracy: 0.7017 - val_precision: 0.6708 - val_recall: 0.5276 - val_f1_score: 0.5875\n",
            "Epoch 43/200\n",
            "27/27 - 0s - loss: 0.6709 - accuracy: 0.7561 - precision: 0.8324 - recall: 0.5144 - f1_score: 0.6338 - val_loss: 0.8741 - val_accuracy: 0.6778 - val_precision: 0.6494 - val_recall: 0.5762 - val_f1_score: 0.6079\n",
            "Epoch 44/200\n",
            "27/27 - 0s - loss: 0.6637 - accuracy: 0.7596 - precision: 0.7879 - recall: 0.5844 - f1_score: 0.6679 - val_loss: 0.7498 - val_accuracy: 0.7255 - val_precision: 0.7724 - val_recall: 0.3628 - val_f1_score: 0.4935\n",
            "Epoch 45/200\n",
            "27/27 - 0s - loss: 0.6655 - accuracy: 0.7579 - precision: 0.8586 - recall: 0.4804 - f1_score: 0.6137 - val_loss: 0.9290 - val_accuracy: 0.7064 - val_precision: 0.6086 - val_recall: 0.3011 - val_f1_score: 0.4019\n",
            "Epoch 46/200\n",
            "27/27 - 0s - loss: 0.6771 - accuracy: 0.7501 - precision: 0.7815 - recall: 0.4845 - f1_score: 0.5944 - val_loss: 0.8134 - val_accuracy: 0.7064 - val_precision: 0.6549 - val_recall: 0.5705 - val_f1_score: 0.6066\n",
            "Epoch 47/200\n",
            "27/27 - 0s - loss: 0.6350 - accuracy: 0.7721 - precision: 0.8397 - recall: 0.6166 - f1_score: 0.7103 - val_loss: 0.8035 - val_accuracy: 0.7208 - val_precision: 0.7189 - val_recall: 0.5020 - val_f1_score: 0.5831\n",
            "Epoch 48/200\n",
            "27/27 - 0s - loss: 0.6823 - accuracy: 0.7478 - precision: 0.8082 - recall: 0.5581 - f1_score: 0.6591 - val_loss: 0.8283 - val_accuracy: 0.7208 - val_precision: 0.6268 - val_recall: 0.5762 - val_f1_score: 0.5965\n",
            "Epoch 49/200\n",
            "27/27 - 0s - loss: 0.6031 - accuracy: 0.7899 - precision: 0.7624 - recall: 0.6100 - f1_score: 0.6762 - val_loss: 0.7938 - val_accuracy: 0.7351 - val_precision: 0.6354 - val_recall: 0.6155 - val_f1_score: 0.6239\n",
            "Epoch 50/200\n",
            "27/27 - 0s - loss: 0.6176 - accuracy: 0.7753 - precision: 0.7895 - recall: 0.6207 - f1_score: 0.6931 - val_loss: 0.7975 - val_accuracy: 0.7422 - val_precision: 0.7465 - val_recall: 0.5705 - val_f1_score: 0.6449\n",
            "Epoch 51/200\n",
            "27/27 - 0s - loss: 0.6054 - accuracy: 0.7860 - precision: 0.8071 - recall: 0.6122 - f1_score: 0.6953 - val_loss: 0.9081 - val_accuracy: 0.7064 - val_precision: 0.6220 - val_recall: 0.4502 - val_f1_score: 0.5202\n",
            "Epoch 52/200\n",
            "27/27 - 0s - loss: 0.5980 - accuracy: 0.7807 - precision: 0.8593 - recall: 0.6145 - f1_score: 0.7159 - val_loss: 0.7851 - val_accuracy: 0.7232 - val_precision: 0.6722 - val_recall: 0.5740 - val_f1_score: 0.6154\n",
            "Epoch 53/200\n",
            "27/27 - 0s - loss: 0.5800 - accuracy: 0.7922 - precision: 0.8111 - recall: 0.5937 - f1_score: 0.6846 - val_loss: 0.7943 - val_accuracy: 0.7494 - val_precision: 0.5694 - val_recall: 0.7435 - val_f1_score: 0.6443\n",
            "Epoch 54/200\n",
            "27/27 - 0s - loss: 0.5844 - accuracy: 0.7860 - precision: 0.7767 - recall: 0.6140 - f1_score: 0.6846 - val_loss: 0.8647 - val_accuracy: 0.7017 - val_precision: 0.8064 - val_recall: 0.4556 - val_f1_score: 0.5794\n",
            "Epoch 55/200\n",
            "27/27 - 0s - loss: 0.6489 - accuracy: 0.7608 - precision: 0.7892 - recall: 0.5807 - f1_score: 0.6673 - val_loss: 0.8751 - val_accuracy: 0.7351 - val_precision: 0.6916 - val_recall: 0.6169 - val_f1_score: 0.6491\n",
            "Epoch 56/200\n",
            "27/27 - 0s - loss: 0.6467 - accuracy: 0.7679 - precision: 0.7502 - recall: 0.6028 - f1_score: 0.6659 - val_loss: 0.8235 - val_accuracy: 0.7041 - val_precision: 0.7171 - val_recall: 0.5352 - val_f1_score: 0.6072\n",
            "Epoch 57/200\n",
            "27/27 - 0s - loss: 0.5929 - accuracy: 0.7869 - precision: 0.7803 - recall: 0.6245 - f1_score: 0.6930 - val_loss: 0.7513 - val_accuracy: 0.7422 - val_precision: 0.8125 - val_recall: 0.4224 - val_f1_score: 0.5504\n",
            "Epoch 58/200\n",
            "27/27 - 0s - loss: 0.5385 - accuracy: 0.8097 - precision: 0.8822 - recall: 0.5808 - f1_score: 0.6954 - val_loss: 0.7573 - val_accuracy: 0.7375 - val_precision: 0.7750 - val_recall: 0.5683 - val_f1_score: 0.6531\n",
            "Epoch 59/200\n",
            "27/27 - 0s - loss: 0.5311 - accuracy: 0.8130 - precision: 0.8744 - recall: 0.6564 - f1_score: 0.7495 - val_loss: 0.7813 - val_accuracy: 0.7184 - val_precision: 0.6723 - val_recall: 0.5801 - val_f1_score: 0.6168\n",
            "Epoch 60/200\n",
            "27/27 - 0s - loss: 0.5959 - accuracy: 0.7798 - precision: 0.8256 - recall: 0.6199 - f1_score: 0.7076 - val_loss: 0.7695 - val_accuracy: 0.7422 - val_precision: 0.7131 - val_recall: 0.5801 - val_f1_score: 0.6372\n",
            "Epoch 61/200\n",
            "27/27 - 0s - loss: 0.5462 - accuracy: 0.8068 - precision: 0.8066 - recall: 0.6402 - f1_score: 0.7128 - val_loss: 0.8009 - val_accuracy: 0.7208 - val_precision: 0.5587 - val_recall: 0.6893 - val_f1_score: 0.6170\n",
            "Epoch 62/200\n",
            "27/27 - 0s - loss: 0.5367 - accuracy: 0.8082 - precision: 0.8765 - recall: 0.6292 - f1_score: 0.7313 - val_loss: 0.8616 - val_accuracy: 0.7064 - val_precision: 0.5692 - val_recall: 0.6522 - val_f1_score: 0.6065\n",
            "Epoch 63/200\n",
            "27/27 - 0s - loss: 0.5411 - accuracy: 0.8056 - precision: 0.7922 - recall: 0.6157 - f1_score: 0.6921 - val_loss: 0.8542 - val_accuracy: 0.7279 - val_precision: 0.6213 - val_recall: 0.5587 - val_f1_score: 0.5860\n",
            "Epoch 64/200\n",
            "27/27 - 0s - loss: 0.5225 - accuracy: 0.8156 - precision: 0.8183 - recall: 0.5156 - f1_score: 0.6280 - val_loss: 0.8124 - val_accuracy: 0.7351 - val_precision: 0.6315 - val_recall: 0.7649 - val_f1_score: 0.6913\n",
            "Epoch 65/200\n",
            "27/27 - 0s - loss: 0.5212 - accuracy: 0.8186 - precision: 0.8658 - recall: 0.6785 - f1_score: 0.7604 - val_loss: 0.7331 - val_accuracy: 0.7542 - val_precision: 0.9116 - val_recall: 0.5352 - val_f1_score: 0.6721\n",
            "Epoch 66/200\n",
            "27/27 - 0s - loss: 0.5323 - accuracy: 0.8091 - precision: 0.7978 - recall: 0.5284 - f1_score: 0.6242 - val_loss: 0.8373 - val_accuracy: 0.7279 - val_precision: 0.6043 - val_recall: 0.6679 - val_f1_score: 0.6341\n",
            "Epoch 67/200\n",
            "27/27 - 0s - loss: 0.6136 - accuracy: 0.7753 - precision: 0.7273 - recall: 0.6158 - f1_score: 0.6638 - val_loss: 0.8467 - val_accuracy: 0.7232 - val_precision: 0.5437 - val_recall: 0.7649 - val_f1_score: 0.6350\n",
            "Epoch 68/200\n",
            "27/27 - 0s - loss: 0.5182 - accuracy: 0.8097 - precision: 0.8097 - recall: 0.6636 - f1_score: 0.7241 - val_loss: 0.8265 - val_accuracy: 0.7255 - val_precision: 0.6998 - val_recall: 0.5470 - val_f1_score: 0.6103\n",
            "Epoch 69/200\n",
            "27/27 - 0s - loss: 0.5189 - accuracy: 0.8156 - precision: 0.8337 - recall: 0.6508 - f1_score: 0.7307 - val_loss: 0.8267 - val_accuracy: 0.7255 - val_precision: 0.5884 - val_recall: 0.6736 - val_f1_score: 0.6275\n",
            "Epoch 70/200\n",
            "27/27 - 0s - loss: 0.5834 - accuracy: 0.7863 - precision: 0.7263 - recall: 0.6201 - f1_score: 0.6621 - val_loss: 0.7519 - val_accuracy: 0.7351 - val_precision: 0.7032 - val_recall: 0.5919 - val_f1_score: 0.6417\n",
            "Epoch 71/200\n",
            "27/27 - 0s - loss: 0.5417 - accuracy: 0.8076 - precision: 0.8255 - recall: 0.6415 - f1_score: 0.7197 - val_loss: 0.7903 - val_accuracy: 0.7279 - val_precision: 0.8734 - val_recall: 0.4210 - val_f1_score: 0.5679\n",
            "Epoch 72/200\n",
            "27/27 - 0s - loss: 0.5149 - accuracy: 0.8142 - precision: 0.8551 - recall: 0.5753 - f1_score: 0.6838 - val_loss: 0.8173 - val_accuracy: 0.7112 - val_precision: 0.5049 - val_recall: 0.7474 - val_f1_score: 0.6007\n",
            "Epoch 73/200\n",
            "27/27 - 0s - loss: 0.4807 - accuracy: 0.8293 - precision: 0.8516 - recall: 0.7276 - f1_score: 0.7824 - val_loss: 0.8624 - val_accuracy: 0.7232 - val_precision: 0.6361 - val_recall: 0.6772 - val_f1_score: 0.6544\n",
            "Epoch 74/200\n",
            "27/27 - 0s - loss: 0.5647 - accuracy: 0.7976 - precision: 0.8313 - recall: 0.5831 - f1_score: 0.6810 - val_loss: 0.8434 - val_accuracy: 0.7351 - val_precision: 0.7187 - val_recall: 0.6251 - val_f1_score: 0.6672\n",
            "Epoch 75/200\n",
            "27/27 - 0s - loss: 0.5184 - accuracy: 0.8094 - precision: 0.8213 - recall: 0.6378 - f1_score: 0.7150 - val_loss: 0.7834 - val_accuracy: 0.7375 - val_precision: 0.8105 - val_recall: 0.5123 - val_f1_score: 0.6264\n",
            "Epoch 76/200\n",
            "27/27 - 0s - loss: 0.4768 - accuracy: 0.8302 - precision: 0.7973 - recall: 0.6485 - f1_score: 0.7141 - val_loss: 0.9111 - val_accuracy: 0.7232 - val_precision: 0.5793 - val_recall: 0.7435 - val_f1_score: 0.6504\n",
            "Epoch 77/200\n",
            "27/27 - 0s - loss: 0.5105 - accuracy: 0.8177 - precision: 0.8242 - recall: 0.6698 - f1_score: 0.7382 - val_loss: 0.8160 - val_accuracy: 0.7279 - val_precision: 0.6928 - val_recall: 0.6155 - val_f1_score: 0.6496\n",
            "Epoch 78/200\n",
            "27/27 - 0s - loss: 0.5273 - accuracy: 0.8139 - precision: 0.8437 - recall: 0.6241 - f1_score: 0.7162 - val_loss: 0.7627 - val_accuracy: 0.7446 - val_precision: 0.7939 - val_recall: 0.4674 - val_f1_score: 0.5866\n",
            "Epoch 79/200\n",
            "27/27 - 0s - loss: 0.4422 - accuracy: 0.8444 - precision: 0.8706 - recall: 0.6876 - f1_score: 0.7674 - val_loss: 0.7257 - val_accuracy: 0.7518 - val_precision: 0.6836 - val_recall: 0.5919 - val_f1_score: 0.6329\n",
            "Epoch 80/200\n",
            "27/27 - 0s - loss: 0.4599 - accuracy: 0.8317 - precision: 0.8403 - recall: 0.7266 - f1_score: 0.7783 - val_loss: 0.9389 - val_accuracy: 0.6874 - val_precision: 0.8264 - val_recall: 0.5234 - val_f1_score: 0.6370\n",
            "Epoch 81/200\n",
            "27/27 - 0s - loss: 0.4826 - accuracy: 0.8275 - precision: 0.7974 - recall: 0.6620 - f1_score: 0.7211 - val_loss: 0.8191 - val_accuracy: 0.7303 - val_precision: 0.6411 - val_recall: 0.6893 - val_f1_score: 0.6642\n",
            "Epoch 82/200\n",
            "27/27 - 0s - loss: 0.4590 - accuracy: 0.8320 - precision: 0.8582 - recall: 0.6670 - f1_score: 0.7498 - val_loss: 0.8619 - val_accuracy: 0.7208 - val_precision: 0.6501 - val_recall: 0.6404 - val_f1_score: 0.6449\n",
            "Epoch 83/200\n",
            "27/27 - 0s - loss: 0.5534 - accuracy: 0.7919 - precision: 0.8069 - recall: 0.6747 - f1_score: 0.7316 - val_loss: 0.7833 - val_accuracy: 0.7494 - val_precision: 0.7699 - val_recall: 0.5919 - val_f1_score: 0.6676\n",
            "Epoch 84/200\n",
            "27/27 - 0s - loss: 0.4814 - accuracy: 0.8239 - precision: 0.8925 - recall: 0.6626 - f1_score: 0.7592 - val_loss: 0.8185 - val_accuracy: 0.7136 - val_precision: 0.6886 - val_recall: 0.6015 - val_f1_score: 0.6389\n",
            "Epoch 85/200\n",
            "27/27 - 0s - loss: 0.4725 - accuracy: 0.8269 - precision: 0.8298 - recall: 0.6859 - f1_score: 0.7507 - val_loss: 0.7170 - val_accuracy: 0.7542 - val_precision: 0.8183 - val_recall: 0.5470 - val_f1_score: 0.6535\n",
            "Epoch 86/200\n",
            "27/27 - 0s - loss: 0.4673 - accuracy: 0.8320 - precision: 0.8527 - recall: 0.6836 - f1_score: 0.7572 - val_loss: 0.9477 - val_accuracy: 0.7112 - val_precision: 0.6870 - val_recall: 0.6133 - val_f1_score: 0.6456\n",
            "Epoch 87/200\n",
            "27/27 - 0s - loss: 0.5360 - accuracy: 0.7967 - precision: 0.8448 - recall: 0.7168 - f1_score: 0.7753 - val_loss: 0.7490 - val_accuracy: 0.7494 - val_precision: 0.7541 - val_recall: 0.5919 - val_f1_score: 0.6620\n",
            "Epoch 88/200\n",
            "27/27 - 0s - loss: 0.4357 - accuracy: 0.8438 - precision: 0.8645 - recall: 0.7100 - f1_score: 0.7795 - val_loss: 0.8653 - val_accuracy: 0.7160 - val_precision: 0.6020 - val_recall: 0.7378 - val_f1_score: 0.6619\n",
            "Epoch 89/200\n",
            "27/27 - 0s - loss: 0.4533 - accuracy: 0.8355 - precision: 0.8570 - recall: 0.7134 - f1_score: 0.7779 - val_loss: 0.8041 - val_accuracy: 0.7494 - val_precision: 0.6398 - val_recall: 0.6853 - val_f1_score: 0.6615\n",
            "Epoch 90/200\n",
            "27/27 - 0s - loss: 0.4864 - accuracy: 0.8281 - precision: 0.8515 - recall: 0.7178 - f1_score: 0.7785 - val_loss: 0.8346 - val_accuracy: 0.7327 - val_precision: 0.5512 - val_recall: 0.7531 - val_f1_score: 0.6357\n",
            "Epoch 91/200\n",
            "27/27 - 0s - loss: 0.4724 - accuracy: 0.8290 - precision: 0.8236 - recall: 0.7309 - f1_score: 0.7722 - val_loss: 0.9138 - val_accuracy: 0.6993 - val_precision: 0.5946 - val_recall: 0.7164 - val_f1_score: 0.6486\n",
            "Epoch 92/200\n",
            "27/27 - 0s - loss: 0.5079 - accuracy: 0.8094 - precision: 0.7640 - recall: 0.6449 - f1_score: 0.6913 - val_loss: 0.8558 - val_accuracy: 0.7232 - val_precision: 0.6863 - val_recall: 0.5858 - val_f1_score: 0.6303\n",
            "Epoch 93/200\n",
            "27/27 - 0s - loss: 0.4738 - accuracy: 0.8290 - precision: 0.8754 - recall: 0.7083 - f1_score: 0.7829 - val_loss: 0.7786 - val_accuracy: 0.7494 - val_precision: 0.6976 - val_recall: 0.6679 - val_f1_score: 0.6820\n",
            "Epoch 94/200\n",
            "27/27 - 0s - loss: 0.3954 - accuracy: 0.8545 - precision: 0.8740 - recall: 0.7129 - f1_score: 0.7848 - val_loss: 0.7655 - val_accuracy: 0.7542 - val_precision: 0.6613 - val_recall: 0.6404 - val_f1_score: 0.6497\n",
            "Epoch 95/200\n",
            "27/27 - 0s - loss: 0.3748 - accuracy: 0.8687 - precision: 0.8795 - recall: 0.7543 - f1_score: 0.8119 - val_loss: 0.7577 - val_accuracy: 0.7589 - val_precision: 0.7111 - val_recall: 0.6133 - val_f1_score: 0.6579\n",
            "Epoch 96/200\n",
            "27/27 - 0s - loss: 0.3879 - accuracy: 0.8586 - precision: 0.8646 - recall: 0.7538 - f1_score: 0.8053 - val_loss: 0.7823 - val_accuracy: 0.7518 - val_precision: 0.7427 - val_recall: 0.5919 - val_f1_score: 0.6577\n",
            "Epoch 97/200\n",
            "27/27 - 0s - loss: 0.4238 - accuracy: 0.8480 - precision: 0.8963 - recall: 0.6949 - f1_score: 0.7815 - val_loss: 0.7903 - val_accuracy: 0.7566 - val_precision: 0.6663 - val_recall: 0.6833 - val_f1_score: 0.6726\n",
            "Epoch 98/200\n",
            "27/27 - 0s - loss: 0.3993 - accuracy: 0.8637 - precision: 0.8934 - recall: 0.7926 - f1_score: 0.8395 - val_loss: 0.7958 - val_accuracy: 0.7327 - val_precision: 0.6530 - val_recall: 0.7082 - val_f1_score: 0.6787\n",
            "Epoch 99/200\n",
            "27/27 - 0s - loss: 0.3906 - accuracy: 0.8622 - precision: 0.8759 - recall: 0.7705 - f1_score: 0.8193 - val_loss: 0.9063 - val_accuracy: 0.7136 - val_precision: 0.8264 - val_recall: 0.5234 - val_f1_score: 0.6370\n",
            "Epoch 100/200\n",
            "27/27 - 0s - loss: 0.4255 - accuracy: 0.8429 - precision: 0.9067 - recall: 0.7253 - f1_score: 0.8052 - val_loss: 0.8289 - val_accuracy: 0.7637 - val_precision: 0.6279 - val_recall: 0.7067 - val_f1_score: 0.6648\n",
            "Epoch 101/200\n",
            "27/27 - 0s - loss: 0.3800 - accuracy: 0.8604 - precision: 0.8538 - recall: 0.7990 - f1_score: 0.8249 - val_loss: 0.9076 - val_accuracy: 0.7088 - val_precision: 0.4937 - val_recall: 0.6893 - val_f1_score: 0.5743\n",
            "Epoch 102/200\n",
            "27/27 - 0s - loss: 0.3997 - accuracy: 0.8589 - precision: 0.7930 - recall: 0.7172 - f1_score: 0.7477 - val_loss: 0.8198 - val_accuracy: 0.7518 - val_precision: 0.5846 - val_recall: 0.7357 - val_f1_score: 0.6508\n",
            "Epoch 103/200\n",
            "27/27 - 0s - loss: 0.4115 - accuracy: 0.8604 - precision: 0.8630 - recall: 0.7782 - f1_score: 0.8157 - val_loss: 0.8343 - val_accuracy: 0.7279 - val_precision: 0.7250 - val_recall: 0.5897 - val_f1_score: 0.6476\n",
            "Epoch 104/200\n",
            "27/27 - 0s - loss: 0.3955 - accuracy: 0.8566 - precision: 0.8548 - recall: 0.7150 - f1_score: 0.7774 - val_loss: 0.7972 - val_accuracy: 0.7446 - val_precision: 0.6358 - val_recall: 0.6832 - val_f1_score: 0.6585\n",
            "Epoch 105/200\n",
            "27/27 - 0s - loss: 0.3824 - accuracy: 0.8628 - precision: 0.8498 - recall: 0.7612 - f1_score: 0.8020 - val_loss: 0.8330 - val_accuracy: 0.7232 - val_precision: 0.7290 - val_recall: 0.5256 - val_f1_score: 0.6043\n",
            "Epoch 106/200\n",
            "27/27 - 0s - loss: 0.4396 - accuracy: 0.8340 - precision: 0.8238 - recall: 0.6943 - f1_score: 0.7515 - val_loss: 0.7818 - val_accuracy: 0.7566 - val_precision: 0.7336 - val_recall: 0.7025 - val_f1_score: 0.7164\n",
            "Epoch 107/200\n",
            "27/27 - 0s - loss: 0.3671 - accuracy: 0.8720 - precision: 0.8824 - recall: 0.7394 - f1_score: 0.8036 - val_loss: 0.7803 - val_accuracy: 0.7518 - val_precision: 0.6920 - val_recall: 0.6868 - val_f1_score: 0.6871\n",
            "Epoch 108/200\n",
            "27/27 - 0s - loss: 0.3867 - accuracy: 0.8666 - precision: 0.9175 - recall: 0.8001 - f1_score: 0.8542 - val_loss: 0.7696 - val_accuracy: 0.7494 - val_precision: 0.7415 - val_recall: 0.6265 - val_f1_score: 0.6744\n",
            "Epoch 109/200\n",
            "27/27 - 0s - loss: 0.3448 - accuracy: 0.8737 - precision: 0.8756 - recall: 0.7487 - f1_score: 0.8069 - val_loss: 0.8312 - val_accuracy: 0.7351 - val_precision: 0.6411 - val_recall: 0.6404 - val_f1_score: 0.6401\n",
            "Epoch 110/200\n",
            "27/27 - 0s - loss: 0.3424 - accuracy: 0.8782 - precision: 0.9177 - recall: 0.8124 - f1_score: 0.8618 - val_loss: 0.8545 - val_accuracy: 0.7303 - val_precision: 0.7146 - val_recall: 0.5470 - val_f1_score: 0.6152\n",
            "Epoch 111/200\n",
            "27/27 - 0s - loss: 0.4115 - accuracy: 0.8494 - precision: 0.8876 - recall: 0.6853 - f1_score: 0.7672 - val_loss: 0.9511 - val_accuracy: 0.7327 - val_precision: 0.6488 - val_recall: 0.7046 - val_f1_score: 0.6748\n",
            "Epoch 112/200\n",
            "27/27 - 0s - loss: 0.3668 - accuracy: 0.8690 - precision: 0.8868 - recall: 0.7846 - f1_score: 0.8321 - val_loss: 0.7885 - val_accuracy: 0.7470 - val_precision: 0.8183 - val_recall: 0.5470 - val_f1_score: 0.6535\n",
            "Epoch 113/200\n",
            "27/27 - 0s - loss: 0.3866 - accuracy: 0.8610 - precision: 0.8525 - recall: 0.6990 - f1_score: 0.7658 - val_loss: 0.8027 - val_accuracy: 0.7542 - val_precision: 0.7352 - val_recall: 0.6561 - val_f1_score: 0.6925\n",
            "Epoch 114/200\n",
            "27/27 - 0s - loss: 0.3813 - accuracy: 0.8622 - precision: 0.8759 - recall: 0.7298 - f1_score: 0.7950 - val_loss: 0.7931 - val_accuracy: 0.7518 - val_precision: 0.6380 - val_recall: 0.7413 - val_f1_score: 0.6849\n",
            "Epoch 115/200\n",
            "27/27 - 0s - loss: 0.3462 - accuracy: 0.8776 - precision: 0.8801 - recall: 0.7551 - f1_score: 0.8101 - val_loss: 0.7741 - val_accuracy: 0.7566 - val_precision: 0.7435 - val_recall: 0.5123 - val_f1_score: 0.6052\n",
            "Epoch 116/200\n",
            "27/27 - 0s - loss: 0.3238 - accuracy: 0.8844 - precision: 0.8917 - recall: 0.7937 - f1_score: 0.8393 - val_loss: 0.8582 - val_accuracy: 0.7232 - val_precision: 0.7013 - val_recall: 0.5587 - val_f1_score: 0.6188\n",
            "Epoch 117/200\n",
            "27/27 - 0s - loss: 0.3221 - accuracy: 0.8900 - precision: 0.8943 - recall: 0.7505 - f1_score: 0.8114 - val_loss: 0.9020 - val_accuracy: 0.7351 - val_precision: 0.6697 - val_recall: 0.6597 - val_f1_score: 0.6621\n",
            "Epoch 118/200\n",
            "27/27 - 0s - loss: 0.3711 - accuracy: 0.8678 - precision: 0.9158 - recall: 0.7055 - f1_score: 0.7953 - val_loss: 0.9807 - val_accuracy: 0.6969 - val_precision: 0.5721 - val_recall: 0.6679 - val_f1_score: 0.6153\n",
            "Epoch 119/200\n",
            "27/27 - 0s - loss: 0.3160 - accuracy: 0.8817 - precision: 0.8927 - recall: 0.8315 - f1_score: 0.8603 - val_loss: 0.8989 - val_accuracy: 0.7232 - val_precision: 0.6861 - val_recall: 0.6693 - val_f1_score: 0.6749\n",
            "Epoch 120/200\n",
            "27/27 - 0s - loss: 0.3504 - accuracy: 0.8811 - precision: 0.8956 - recall: 0.7797 - f1_score: 0.8330 - val_loss: 0.9183 - val_accuracy: 0.7422 - val_precision: 0.5826 - val_recall: 0.7649 - val_f1_score: 0.6608\n",
            "Epoch 121/200\n",
            "27/27 - 0s - loss: 0.3606 - accuracy: 0.8726 - precision: 0.8410 - recall: 0.7590 - f1_score: 0.7954 - val_loss: 0.8874 - val_accuracy: 0.7422 - val_precision: 0.6992 - val_recall: 0.6347 - val_f1_score: 0.6647\n",
            "Epoch 122/200\n",
            "27/27 - 0s - loss: 0.3072 - accuracy: 0.8930 - precision: 0.8938 - recall: 0.7867 - f1_score: 0.8365 - val_loss: 0.8395 - val_accuracy: 0.7494 - val_precision: 0.6394 - val_recall: 0.6251 - val_f1_score: 0.6312\n",
            "Epoch 123/200\n",
            "27/27 - 0s - loss: 0.2969 - accuracy: 0.8960 - precision: 0.9104 - recall: 0.8304 - f1_score: 0.8684 - val_loss: 0.8300 - val_accuracy: 0.7375 - val_precision: 0.7107 - val_recall: 0.5683 - val_f1_score: 0.6285\n",
            "Epoch 124/200\n",
            "27/27 - 0s - loss: 0.2759 - accuracy: 0.9108 - precision: 0.9275 - recall: 0.8003 - f1_score: 0.8581 - val_loss: 0.8238 - val_accuracy: 0.7613 - val_precision: 0.8222 - val_recall: 0.6811 - val_f1_score: 0.7445\n",
            "Epoch 125/200\n",
            "27/27 - 0s - loss: 0.2830 - accuracy: 0.8983 - precision: 0.9357 - recall: 0.7977 - f1_score: 0.8604 - val_loss: 0.8469 - val_accuracy: 0.7470 - val_precision: 0.7016 - val_recall: 0.6561 - val_f1_score: 0.6777\n",
            "Epoch 126/200\n",
            "27/27 - 0s - loss: 0.2752 - accuracy: 0.9096 - precision: 0.9294 - recall: 0.8460 - f1_score: 0.8854 - val_loss: 0.8582 - val_accuracy: 0.7375 - val_precision: 0.6031 - val_recall: 0.6736 - val_f1_score: 0.6356\n",
            "Epoch 127/200\n",
            "27/27 - 0s - loss: 0.3067 - accuracy: 0.8921 - precision: 0.9187 - recall: 0.8430 - f1_score: 0.8788 - val_loss: 0.8840 - val_accuracy: 0.7446 - val_precision: 0.8111 - val_recall: 0.5256 - val_f1_score: 0.6348\n",
            "Epoch 128/200\n",
            "27/27 - 0s - loss: 0.4194 - accuracy: 0.8432 - precision: 0.7986 - recall: 0.6513 - f1_score: 0.7137 - val_loss: 0.8792 - val_accuracy: 0.7112 - val_precision: 0.6181 - val_recall: 0.6383 - val_f1_score: 0.6245\n",
            "Epoch 129/200\n",
            "27/27 - 0s - loss: 0.4091 - accuracy: 0.8483 - precision: 0.8775 - recall: 0.8266 - f1_score: 0.8504 - val_loss: 0.8850 - val_accuracy: 0.7422 - val_precision: 0.6888 - val_recall: 0.6893 - val_f1_score: 0.6889\n",
            "Epoch 130/200\n",
            "27/27 - 0s - loss: 0.2854 - accuracy: 0.9037 - precision: 0.8247 - recall: 0.8176 - f1_score: 0.8191 - val_loss: 0.8211 - val_accuracy: 0.7542 - val_precision: 0.6979 - val_recall: 0.5919 - val_f1_score: 0.6388\n",
            "Epoch 131/200\n",
            "27/27 - 0s - loss: 0.2833 - accuracy: 0.8998 - precision: 0.8873 - recall: 0.8209 - f1_score: 0.8522 - val_loss: 0.8472 - val_accuracy: 0.7518 - val_precision: 0.7231 - val_recall: 0.6347 - val_f1_score: 0.6750\n",
            "Epoch 132/200\n",
            "27/27 - 0s - loss: 0.3167 - accuracy: 0.8853 - precision: 0.9450 - recall: 0.8139 - f1_score: 0.8745 - val_loss: 0.8393 - val_accuracy: 0.7327 - val_precision: 0.6964 - val_recall: 0.7413 - val_f1_score: 0.7178\n",
            "Epoch 133/200\n",
            "27/27 - 0s - loss: 0.2710 - accuracy: 0.9034 - precision: 0.9249 - recall: 0.8598 - f1_score: 0.8910 - val_loss: 0.8863 - val_accuracy: 0.7518 - val_precision: 0.7028 - val_recall: 0.7357 - val_f1_score: 0.7177\n",
            "Epoch 134/200\n",
            "27/27 - 0s - loss: 0.2595 - accuracy: 0.9123 - precision: 0.9084 - recall: 0.8285 - f1_score: 0.8663 - val_loss: 0.9135 - val_accuracy: 0.7613 - val_precision: 0.6376 - val_recall: 0.6700 - val_f1_score: 0.6525\n",
            "Epoch 135/200\n",
            "27/27 - 0s - loss: 0.2506 - accuracy: 0.9146 - precision: 0.9270 - recall: 0.8594 - f1_score: 0.8916 - val_loss: 0.8266 - val_accuracy: 0.7589 - val_precision: 0.7786 - val_recall: 0.6597 - val_f1_score: 0.7123\n",
            "Epoch 136/200\n",
            "27/27 - 0s - loss: 0.2399 - accuracy: 0.9197 - precision: 0.9216 - recall: 0.8504 - f1_score: 0.8844 - val_loss: 0.8648 - val_accuracy: 0.7399 - val_precision: 0.6028 - val_recall: 0.7413 - val_f1_score: 0.6638\n",
            "Epoch 137/200\n",
            "27/27 - 0s - loss: 0.2561 - accuracy: 0.9108 - precision: 0.9423 - recall: 0.8679 - f1_score: 0.9033 - val_loss: 0.9154 - val_accuracy: 0.7422 - val_precision: 0.7082 - val_recall: 0.6265 - val_f1_score: 0.6617\n",
            "Epoch 138/200\n",
            "27/27 - 0s - loss: 0.2895 - accuracy: 0.8942 - precision: 0.8798 - recall: 0.7821 - f1_score: 0.8262 - val_loss: 0.9012 - val_accuracy: 0.7446 - val_precision: 0.6438 - val_recall: 0.7296 - val_f1_score: 0.6834\n",
            "Epoch 139/200\n",
            "27/27 - 0s - loss: 0.2640 - accuracy: 0.9055 - precision: 0.9064 - recall: 0.8442 - f1_score: 0.8738 - val_loss: 0.9655 - val_accuracy: 0.7375 - val_precision: 0.7279 - val_recall: 0.7143 - val_f1_score: 0.7201\n",
            "Epoch 140/200\n",
            "27/27 - 0s - loss: 0.2441 - accuracy: 0.9158 - precision: 0.9358 - recall: 0.8553 - f1_score: 0.8933 - val_loss: 0.9235 - val_accuracy: 0.7566 - val_precision: 0.6519 - val_recall: 0.7649 - val_f1_score: 0.7034\n",
            "Epoch 141/200\n",
            "27/27 - 0s - loss: 0.2354 - accuracy: 0.9191 - precision: 0.9217 - recall: 0.8585 - f1_score: 0.8887 - val_loss: 0.9507 - val_accuracy: 0.7327 - val_precision: 0.5864 - val_recall: 0.6929 - val_f1_score: 0.6335\n",
            "Epoch 142/200\n",
            "27/27 - 0s - loss: 0.2949 - accuracy: 0.8986 - precision: 0.8757 - recall: 0.8396 - f1_score: 0.8558 - val_loss: 0.9747 - val_accuracy: 0.7208 - val_precision: 0.6364 - val_recall: 0.7627 - val_f1_score: 0.6937\n",
            "Epoch 143/200\n",
            "27/27 - 0s - loss: 0.3622 - accuracy: 0.8729 - precision: 0.8824 - recall: 0.8266 - f1_score: 0.8525 - val_loss: 0.9882 - val_accuracy: 0.7446 - val_precision: 0.6452 - val_recall: 0.6893 - val_f1_score: 0.6657\n",
            "Epoch 144/200\n",
            "27/27 - 0s - loss: 0.3188 - accuracy: 0.8829 - precision: 0.8276 - recall: 0.7242 - f1_score: 0.7693 - val_loss: 0.8841 - val_accuracy: 0.7399 - val_precision: 0.6720 - val_recall: 0.6133 - val_f1_score: 0.6393\n",
            "Epoch 145/200\n",
            "27/27 - 0s - loss: 0.2219 - accuracy: 0.9306 - precision: 0.9281 - recall: 0.8787 - f1_score: 0.9026 - val_loss: 0.8553 - val_accuracy: 0.7446 - val_precision: 0.6606 - val_recall: 0.7413 - val_f1_score: 0.6981\n",
            "Epoch 146/200\n",
            "27/27 - 0s - loss: 0.2898 - accuracy: 0.8972 - precision: 0.8842 - recall: 0.8274 - f1_score: 0.8533 - val_loss: 0.9257 - val_accuracy: 0.7303 - val_precision: 0.7196 - val_recall: 0.7025 - val_f1_score: 0.7100\n",
            "Epoch 147/200\n",
            "27/27 - 0s - loss: 0.2263 - accuracy: 0.9221 - precision: 0.9076 - recall: 0.8366 - f1_score: 0.8705 - val_loss: 0.8410 - val_accuracy: 0.7470 - val_precision: 0.7043 - val_recall: 0.6811 - val_f1_score: 0.6913\n",
            "Epoch 148/200\n",
            "27/27 - 0s - loss: 0.1916 - accuracy: 0.9407 - precision: 0.9293 - recall: 0.8841 - f1_score: 0.9057 - val_loss: 0.9218 - val_accuracy: 0.7542 - val_precision: 0.7405 - val_recall: 0.6597 - val_f1_score: 0.6948\n",
            "Epoch 149/200\n",
            "27/27 - 0s - loss: 0.2285 - accuracy: 0.9212 - precision: 0.9422 - recall: 0.8711 - f1_score: 0.9046 - val_loss: 0.8983 - val_accuracy: 0.7375 - val_precision: 0.7485 - val_recall: 0.5837 - val_f1_score: 0.6480\n",
            "Epoch 150/200\n",
            "27/27 - 0s - loss: 0.2287 - accuracy: 0.9212 - precision: 0.9523 - recall: 0.8451 - f1_score: 0.8935 - val_loss: 0.9295 - val_accuracy: 0.7494 - val_precision: 0.6444 - val_recall: 0.7296 - val_f1_score: 0.6832\n",
            "Epoch 151/200\n",
            "27/27 - 0s - loss: 0.2617 - accuracy: 0.9132 - precision: 0.9124 - recall: 0.9006 - f1_score: 0.9056 - val_loss: 1.1149 - val_accuracy: 0.7160 - val_precision: 0.6669 - val_recall: 0.6133 - val_f1_score: 0.6383\n",
            "Epoch 152/200\n",
            "27/27 - 0s - loss: 0.4093 - accuracy: 0.8485 - precision: 0.8141 - recall: 0.7552 - f1_score: 0.7823 - val_loss: 0.9408 - val_accuracy: 0.7279 - val_precision: 0.6923 - val_recall: 0.7143 - val_f1_score: 0.7028\n",
            "Epoch 153/200\n",
            "27/27 - 0s - loss: 0.3586 - accuracy: 0.8737 - precision: 0.9004 - recall: 0.8221 - f1_score: 0.8590 - val_loss: 0.9117 - val_accuracy: 0.7446 - val_precision: 0.6971 - val_recall: 0.6929 - val_f1_score: 0.6926\n",
            "Epoch 154/200\n",
            "27/27 - 0s - loss: 0.3434 - accuracy: 0.8814 - precision: 0.9118 - recall: 0.7020 - f1_score: 0.7889 - val_loss: 0.9108 - val_accuracy: 0.7375 - val_precision: 0.8227 - val_recall: 0.5006 - val_f1_score: 0.6212\n",
            "Epoch 155/200\n",
            "27/27 - 0s - loss: 0.2576 - accuracy: 0.9069 - precision: 0.9314 - recall: 0.7509 - f1_score: 0.8221 - val_loss: 1.0700 - val_accuracy: 0.7184 - val_precision: 0.7193 - val_recall: 0.5352 - val_f1_score: 0.6084\n",
            "Epoch 156/200\n",
            "27/27 - 0s - loss: 0.3306 - accuracy: 0.8835 - precision: 0.8959 - recall: 0.7578 - f1_score: 0.8179 - val_loss: 0.9561 - val_accuracy: 0.7136 - val_precision: 0.6794 - val_recall: 0.5470 - val_f1_score: 0.6031\n",
            "Epoch 157/200\n",
            "27/27 - 0s - loss: 0.2682 - accuracy: 0.9046 - precision: 0.9109 - recall: 0.8148 - f1_score: 0.8593 - val_loss: 0.9996 - val_accuracy: 0.7303 - val_precision: 0.6085 - val_recall: 0.7164 - val_f1_score: 0.6570\n",
            "Epoch 158/200\n",
            "27/27 - 0s - loss: 0.2291 - accuracy: 0.9229 - precision: 0.9356 - recall: 0.8604 - f1_score: 0.8962 - val_loss: 0.9732 - val_accuracy: 0.7232 - val_precision: 0.5825 - val_recall: 0.7531 - val_f1_score: 0.6561\n",
            "Epoch 159/200\n",
            "27/27 - 0s - loss: 0.2074 - accuracy: 0.9280 - precision: 0.9062 - recall: 0.8852 - f1_score: 0.8947 - val_loss: 0.9008 - val_accuracy: 0.7518 - val_precision: 0.6581 - val_recall: 0.7025 - val_f1_score: 0.6787\n",
            "Epoch 160/200\n",
            "27/27 - 0s - loss: 0.1916 - accuracy: 0.9422 - precision: 0.9436 - recall: 0.8970 - f1_score: 0.9194 - val_loss: 0.9492 - val_accuracy: 0.7518 - val_precision: 0.5831 - val_recall: 0.7143 - val_f1_score: 0.6411\n",
            "Epoch 161/200\n",
            "27/27 - 0s - loss: 0.2004 - accuracy: 0.9312 - precision: 0.9289 - recall: 0.9055 - f1_score: 0.9165 - val_loss: 0.8785 - val_accuracy: 0.7637 - val_precision: 0.7629 - val_recall: 0.6265 - val_f1_score: 0.6823\n",
            "Epoch 162/200\n",
            "27/27 - 0s - loss: 0.3138 - accuracy: 0.8948 - precision: 0.9297 - recall: 0.8759 - f1_score: 0.9018 - val_loss: 1.0122 - val_accuracy: 0.7279 - val_precision: 0.7906 - val_recall: 0.6693 - val_f1_score: 0.7230\n",
            "Epoch 163/200\n",
            "27/27 - 0s - loss: 0.2752 - accuracy: 0.8983 - precision: 0.9295 - recall: 0.8391 - f1_score: 0.8816 - val_loss: 0.9119 - val_accuracy: 0.7446 - val_precision: 0.7345 - val_recall: 0.6147 - val_f1_score: 0.6643\n",
            "Epoch 164/200\n",
            "27/27 - 0s - loss: 0.2736 - accuracy: 0.8986 - precision: 0.9495 - recall: 0.8366 - f1_score: 0.8888 - val_loss: 1.0585 - val_accuracy: 0.7399 - val_precision: 0.6118 - val_recall: 0.7357 - val_f1_score: 0.6675\n",
            "Epoch 165/200\n",
            "27/27 - 0s - loss: 0.2330 - accuracy: 0.9161 - precision: 0.9216 - recall: 0.8778 - f1_score: 0.8986 - val_loss: 0.9588 - val_accuracy: 0.7446 - val_precision: 0.6849 - val_recall: 0.6929 - val_f1_score: 0.6877\n",
            "Epoch 166/200\n",
            "27/27 - 0s - loss: 0.3002 - accuracy: 0.8936 - precision: 0.9022 - recall: 0.8630 - f1_score: 0.8819 - val_loss: 1.0302 - val_accuracy: 0.7351 - val_precision: 0.7593 - val_recall: 0.6147 - val_f1_score: 0.6729\n",
            "Epoch 167/200\n",
            "27/27 - 0s - loss: 0.2415 - accuracy: 0.9117 - precision: 0.9028 - recall: 0.7369 - f1_score: 0.8047 - val_loss: 0.9510 - val_accuracy: 0.7303 - val_precision: 0.7259 - val_recall: 0.6929 - val_f1_score: 0.7076\n",
            "Epoch 168/200\n",
            "27/27 - 0s - loss: 0.2095 - accuracy: 0.9277 - precision: 0.9527 - recall: 0.8757 - f1_score: 0.9124 - val_loss: 0.8911 - val_accuracy: 0.7470 - val_precision: 0.6685 - val_recall: 0.7025 - val_f1_score: 0.6839\n",
            "Epoch 169/200\n",
            "27/27 - 0s - loss: 0.1892 - accuracy: 0.9351 - precision: 0.9646 - recall: 0.9126 - f1_score: 0.9376 - val_loss: 1.0950 - val_accuracy: 0.7255 - val_precision: 0.6435 - val_recall: 0.6868 - val_f1_score: 0.6620\n",
            "Epoch 170/200\n",
            "27/27 - 0s - loss: 0.2458 - accuracy: 0.9093 - precision: 0.9416 - recall: 0.8779 - f1_score: 0.9084 - val_loss: 0.9254 - val_accuracy: 0.7303 - val_precision: 0.6453 - val_recall: 0.7143 - val_f1_score: 0.6773\n",
            "Epoch 171/200\n",
            "27/27 - 0s - loss: 0.2091 - accuracy: 0.9280 - precision: 0.9481 - recall: 0.8861 - f1_score: 0.9158 - val_loss: 1.0453 - val_accuracy: 0.7351 - val_precision: 0.7292 - val_recall: 0.5220 - val_f1_score: 0.6056\n",
            "Epoch 172/200\n",
            "27/27 - 0s - loss: 0.2193 - accuracy: 0.9280 - precision: 0.9441 - recall: 0.8048 - f1_score: 0.8654 - val_loss: 0.9175 - val_accuracy: 0.7613 - val_precision: 0.7779 - val_recall: 0.7025 - val_f1_score: 0.7375\n",
            "Epoch 173/200\n",
            "27/27 - 0s - loss: 0.1912 - accuracy: 0.9336 - precision: 0.9461 - recall: 0.8563 - f1_score: 0.8982 - val_loss: 0.9790 - val_accuracy: 0.7375 - val_precision: 0.6616 - val_recall: 0.6597 - val_f1_score: 0.6583\n",
            "Epoch 174/200\n",
            "27/27 - 0s - loss: 0.2114 - accuracy: 0.9303 - precision: 0.9755 - recall: 0.8872 - f1_score: 0.9288 - val_loss: 0.9816 - val_accuracy: 0.7399 - val_precision: 0.6705 - val_recall: 0.6147 - val_f1_score: 0.6367\n",
            "Epoch 175/200\n",
            "27/27 - 0s - loss: 0.1841 - accuracy: 0.9378 - precision: 0.9036 - recall: 0.8618 - f1_score: 0.8802 - val_loss: 0.9767 - val_accuracy: 0.7494 - val_precision: 0.6472 - val_recall: 0.7082 - val_f1_score: 0.6745\n",
            "Epoch 176/200\n",
            "27/27 - 0s - loss: 0.1649 - accuracy: 0.9469 - precision: 0.9385 - recall: 0.9064 - f1_score: 0.9219 - val_loss: 0.9287 - val_accuracy: 0.7399 - val_precision: 0.6543 - val_recall: 0.7025 - val_f1_score: 0.6765\n",
            "Epoch 177/200\n",
            "27/27 - 0s - loss: 0.1422 - accuracy: 0.9591 - precision: 0.9802 - recall: 0.9436 - f1_score: 0.9615 - val_loss: 0.9658 - val_accuracy: 0.7589 - val_precision: 0.6415 - val_recall: 0.7025 - val_f1_score: 0.6685\n",
            "Epoch 178/200\n",
            "27/27 - 0s - loss: 0.1403 - accuracy: 0.9552 - precision: 0.9690 - recall: 0.9162 - f1_score: 0.9417 - val_loss: 0.9934 - val_accuracy: 0.7399 - val_precision: 0.7237 - val_recall: 0.6715 - val_f1_score: 0.6946\n",
            "Epoch 179/200\n",
            "27/27 - 0s - loss: 0.2366 - accuracy: 0.9164 - precision: 0.9441 - recall: 0.8852 - f1_score: 0.9135 - val_loss: 0.9562 - val_accuracy: 0.7327 - val_precision: 0.7138 - val_recall: 0.6440 - val_f1_score: 0.6741\n",
            "Epoch 180/200\n",
            "27/27 - 0s - loss: 0.2485 - accuracy: 0.9099 - precision: 0.9032 - recall: 0.8772 - f1_score: 0.8894 - val_loss: 1.2981 - val_accuracy: 0.6921 - val_precision: 0.5955 - val_recall: 0.6679 - val_f1_score: 0.6288\n",
            "Epoch 181/200\n",
            "27/27 - 0s - loss: 0.2919 - accuracy: 0.8886 - precision: 0.9101 - recall: 0.8698 - f1_score: 0.8884 - val_loss: 0.9596 - val_accuracy: 0.7470 - val_precision: 0.7953 - val_recall: 0.6868 - val_f1_score: 0.7355\n",
            "Epoch 182/200\n",
            "27/27 - 0s - loss: 0.2885 - accuracy: 0.8983 - precision: 0.9260 - recall: 0.8665 - f1_score: 0.8942 - val_loss: 1.1011 - val_accuracy: 0.7351 - val_precision: 0.7322 - val_recall: 0.5683 - val_f1_score: 0.6361\n",
            "Epoch 183/200\n",
            "27/27 - 0s - loss: 0.2426 - accuracy: 0.9161 - precision: 0.9139 - recall: 0.7770 - f1_score: 0.8307 - val_loss: 1.0094 - val_accuracy: 0.7375 - val_precision: 0.7222 - val_recall: 0.5470 - val_f1_score: 0.6178\n",
            "Epoch 184/200\n",
            "27/27 - 0s - loss: 0.2001 - accuracy: 0.9306 - precision: 0.9356 - recall: 0.8699 - f1_score: 0.9006 - val_loss: 1.0559 - val_accuracy: 0.7208 - val_precision: 0.6163 - val_recall: 0.6597 - val_f1_score: 0.6349\n",
            "Epoch 185/200\n",
            "27/27 - 0s - loss: 0.1663 - accuracy: 0.9419 - precision: 0.9463 - recall: 0.8895 - f1_score: 0.9169 - val_loss: 0.9053 - val_accuracy: 0.7685 - val_precision: 0.7061 - val_recall: 0.7239 - val_f1_score: 0.7133\n",
            "Epoch 186/200\n",
            "27/27 - 0s - loss: 0.1823 - accuracy: 0.9351 - precision: 0.9326 - recall: 0.8203 - f1_score: 0.8715 - val_loss: 1.1031 - val_accuracy: 0.7327 - val_precision: 0.6308 - val_recall: 0.6811 - val_f1_score: 0.6528\n",
            "Epoch 187/200\n",
            "27/27 - 0s - loss: 0.1860 - accuracy: 0.9381 - precision: 0.9493 - recall: 0.9097 - f1_score: 0.9290 - val_loss: 1.0451 - val_accuracy: 0.7494 - val_precision: 0.6925 - val_recall: 0.5801 - val_f1_score: 0.6292\n",
            "Epoch 188/200\n",
            "27/27 - 0s - loss: 0.1502 - accuracy: 0.9496 - precision: 0.9512 - recall: 0.9233 - f1_score: 0.9367 - val_loss: 0.9539 - val_accuracy: 0.7494 - val_precision: 0.6767 - val_recall: 0.6811 - val_f1_score: 0.6767\n",
            "Epoch 189/200\n",
            "27/27 - 0s - loss: 0.1449 - accuracy: 0.9564 - precision: 0.9755 - recall: 0.9217 - f1_score: 0.9478 - val_loss: 0.9776 - val_accuracy: 0.7327 - val_precision: 0.6717 - val_recall: 0.7239 - val_f1_score: 0.6960\n",
            "Epoch 190/200\n",
            "27/27 - 0s - loss: 0.1640 - accuracy: 0.9384 - precision: 0.9669 - recall: 0.9209 - f1_score: 0.9432 - val_loss: 1.1825 - val_accuracy: 0.7208 - val_precision: 0.6086 - val_recall: 0.7745 - val_f1_score: 0.6808\n",
            "Epoch 191/200\n",
            "27/27 - 0s - loss: 0.1905 - accuracy: 0.9351 - precision: 0.9191 - recall: 0.9342 - f1_score: 0.9257 - val_loss: 1.0516 - val_accuracy: 0.7566 - val_precision: 0.6756 - val_recall: 0.7357 - val_f1_score: 0.7036\n",
            "Epoch 192/200\n",
            "27/27 - 0s - loss: 0.1423 - accuracy: 0.9585 - precision: 0.9722 - recall: 0.9148 - f1_score: 0.9425 - val_loss: 1.0737 - val_accuracy: 0.7446 - val_precision: 0.6442 - val_recall: 0.7025 - val_f1_score: 0.6713\n",
            "Epoch 193/200\n",
            "27/27 - 0s - loss: 0.1733 - accuracy: 0.9384 - precision: 0.9377 - recall: 0.9070 - f1_score: 0.9218 - val_loss: 1.1215 - val_accuracy: 0.7279 - val_precision: 0.6109 - val_recall: 0.6639 - val_f1_score: 0.6340\n",
            "Epoch 194/200\n",
            "27/27 - 0s - loss: 0.1886 - accuracy: 0.9372 - precision: 0.9196 - recall: 0.9155 - f1_score: 0.9169 - val_loss: 1.0630 - val_accuracy: 0.7518 - val_precision: 0.6617 - val_recall: 0.7199 - val_f1_score: 0.6878\n",
            "Epoch 195/200\n",
            "27/27 - 0s - loss: 0.1503 - accuracy: 0.9511 - precision: 0.9747 - recall: 0.9084 - f1_score: 0.9403 - val_loss: 1.0050 - val_accuracy: 0.7327 - val_precision: 0.7067 - val_recall: 0.7025 - val_f1_score: 0.7038\n",
            "Epoch 196/200\n",
            "27/27 - 0s - loss: 0.1238 - accuracy: 0.9603 - precision: 0.9812 - recall: 0.9231 - f1_score: 0.9511 - val_loss: 1.0811 - val_accuracy: 0.7494 - val_precision: 0.6614 - val_recall: 0.6811 - val_f1_score: 0.6694\n",
            "Epoch 197/200\n",
            "27/27 - 0s - loss: 0.2373 - accuracy: 0.9229 - precision: 0.9492 - recall: 0.8920 - f1_score: 0.9196 - val_loss: 1.3324 - val_accuracy: 0.7041 - val_precision: 0.7779 - val_recall: 0.5780 - val_f1_score: 0.6607\n",
            "Epoch 198/200\n",
            "27/27 - 0s - loss: 0.2703 - accuracy: 0.9052 - precision: 0.8863 - recall: 0.8162 - f1_score: 0.8473 - val_loss: 1.0556 - val_accuracy: 0.7589 - val_precision: 0.7475 - val_recall: 0.7239 - val_f1_score: 0.7344\n",
            "Epoch 199/200\n",
            "27/27 - 0s - loss: 0.1954 - accuracy: 0.9259 - precision: 0.9616 - recall: 0.9145 - f1_score: 0.9373 - val_loss: 1.0317 - val_accuracy: 0.7470 - val_precision: 0.7043 - val_recall: 0.6811 - val_f1_score: 0.6913\n",
            "Epoch 200/200\n",
            "27/27 - 0s - loss: 0.1572 - accuracy: 0.9535 - precision: 0.9636 - recall: 0.8977 - f1_score: 0.9288 - val_loss: 1.0772 - val_accuracy: 0.7303 - val_precision: 0.5960 - val_recall: 0.7296 - val_f1_score: 0.6555\n"
          ],
          "name": "stdout"
        }
      ]
    },
    {
      "cell_type": "code",
      "metadata": {
        "colab": {
          "base_uri": "https://localhost:8080/",
          "height": 573
        },
        "id": "85lzrFtPabhH",
        "outputId": "5c88f545-b64e-4d0a-c65f-37485464c9af"
      },
      "source": [
        "\n",
        "plt.plot(history.history['accuracy'])\n",
        "plt.plot(history.history['val_accuracy'])\n",
        "plt.title('model accuracy')\n",
        "plt.ylabel('accuracy')\n",
        "plt.xlabel('epoch')\n",
        "plt.legend(['train', 'test'], loc='lower right')\n",
        "plt.show()\n",
        "\n",
        "plt.plot(history.history['loss'])\n",
        "plt.plot(history.history['val_loss'])\n",
        "plt.title('model loss')\n",
        "plt.ylabel('loss')\n",
        "plt.xlabel('epoch')\n",
        "plt.legend(['train', 'test'], loc='upper right')\n",
        "plt.show()\n"
      ],
      "execution_count": 322,
      "outputs": [
        {
          "output_type": "display_data",
          "data": {
            "image/png": "[encoded data removed]",
            "text/plain": [
              "<Figure size 432x288 with 1 Axes>"
            ]
          },
          "metadata": {
            "tags": [],
            "needs_background": "light"
          }
        },
        {
          "output_type": "display_data",
          "data": {
            "image/png": "[encoded data removed]",
            "text/plain": [
              "<Figure size 432x288 with 1 Axes>"
            ]
          },
          "metadata": {
            "tags": [],
            "needs_background": "light"
          }
        }
      ]
    },
    {
      "cell_type": "markdown",
      "metadata": {
        "id": "ZzuutmOeXL2s"
      },
      "source": [
        "<div dir=rtl>\n",
        "پس از ارزیابی شبکه ۴ معیار خواسته شده از آن بیرون کشیده شده و چاپ شده است\n",
        "</div>"
      ]
    },
    {
      "cell_type": "code",
      "metadata": {
        "id": "7JovUQReabhH"
      },
      "source": [
        "loss, acc , precision,recall,f1= model.evaluate(X_test, Y_test, verbose=0)"
      ],
      "execution_count": 323,
      "outputs": []
    },
    {
      "cell_type": "code",
      "metadata": {
        "colab": {
          "base_uri": "https://localhost:8080/"
        },
        "id": "D4J0taI9abhI",
        "outputId": "63e4336e-cea2-4914-9432-a2471c1d69e5"
      },
      "source": [
        "print('Test Accuracy: %.3f' % acc)\n",
        "print('Test Precision: %.3f' % precision)\n",
        "print('Test Recall: %.3f' % recall)\n",
        "print('Test loss: %.3f' % loss)\n",
        "print('Test F1: %.3f' % f1)"
      ],
      "execution_count": 324,
      "outputs": [
        {
          "output_type": "stream",
          "text": [
            "Test Accuracy: 0.771\n",
            "Test Precision: 0.649\n",
            "Test Recall: 0.713\n",
            "Test loss: 0.889\n",
            "Test F1: 0.679\n"
          ],
          "name": "stdout"
        }
      ]
    },
    {
      "cell_type": "markdown",
      "metadata": {
        "id": "eIf6Ju0YXo-O"
      },
      "source": [
        "<div dir=rtl>\n",
        "کد مربوط به تکلیف به پایان رسید\n",
        "<br>\n",
        "در قسمت پایین کد های مربوط به قسمت ه است که توضیح آن پایین تر و در سلول مربوطه داده شده است\n",
        "</div>"
      ]
    },
    {
      "cell_type": "code",
      "metadata": {
        "colab": {
          "base_uri": "https://localhost:8080/"
        },
        "id": "G7N4upNaEPGk",
        "outputId": "fc93f480-29c5-421b-88ac-5448b514bb21"
      },
      "source": [
        "sample1=X_train[12:13]\n",
        "sample2 = X_train[20:21]\n",
        "sample3 = X_train[26:27]\n",
        "\n",
        "\n",
        "yhat1 = model.predict(sample1)\n",
        "print(np.around(yhat1 , decimals = 3))\n",
        "yhat2 = model.predict(sample2)\n",
        "print(np.around(yhat2 , decimals = 3))\n",
        "yhat3 = model.predict(sample3)\n",
        "print(np.around(yhat3 , decimals = 3))\n"
      ],
      "execution_count": 253,
      "outputs": [
        {
          "output_type": "stream",
          "text": [
            "[[0.363 0.218 0.025 0.    0.223 0.004 0.167]]\n",
            "[[0.141 0.131 0.039 0.134 0.015 0.085 0.454]]\n",
            "[[0.377 0.001 0.077 0.    0.043 0.206 0.296]]\n"
          ],
          "name": "stdout"
        }
      ]
    },
    {
      "cell_type": "code",
      "metadata": {
        "colab": {
          "base_uri": "https://localhost:8080/"
        },
        "id": "CULHO9VNabhJ",
        "outputId": "d5088e3b-c52d-4526-809d-603ba8b628a6"
      },
      "source": [
        "\n",
        ")\n",
        "\n",
        "\n",
        "model = Sequential()\n",
        "model.add(Flatten(input_shape=(48,48)))\n",
        "model.add(Dense(300))\n",
        "model.add(Activation('relu'))\n",
        "model.add(Dense(400))\n",
        "model.add(Activation('relu'))\n",
        "model.add(Dense(300))\n",
        "model.add(Activation('relu'))\n",
        "model.add(Dense(200))\n",
        "model.add(Activation('relu'))\n",
        "model.add(Dropout(0.1))\n",
        "model.add(Dense(7))\n",
        "model.add(Activation('softmax'))\n",
        "\n",
        "\n",
        "model.compile(\n",
        "    optimizer=Adam(learning_rate=0.001),\n",
        "    loss=categorical_crossentropy,\n",
        "    metrics=['accuracy', km.categorical_precision(), km.categorical_recall(),km.categorical_f1_score()],\n",
        ")\n",
        "history = model.fit(X_train, Y_train,\n",
        "          batch_size=128, epochs=70,\n",
        "          verbose=2,\n",
        "          validation_data=(X_valid, Y_valid))\n",
        "\n"
      ],
      "execution_count": 254,
      "outputs": [
        {
          "output_type": "stream",
          "text": [
            "Epoch 1/70\n",
            "WARNING:tensorflow:`add_update` `inputs` kwarg has been deprecated. You no longer need to pass a value to `inputs` as it is being automatically inferred.\n",
            "WARNING:tensorflow:`add_update` `inputs` kwarg has been deprecated. You no longer need to pass a value to `inputs` as it is being automatically inferred.\n",
            "WARNING:tensorflow:`add_update` `inputs` kwarg has been deprecated. You no longer need to pass a value to `inputs` as it is being automatically inferred.\n",
            "WARNING:tensorflow:`add_update` `inputs` kwarg has been deprecated. You no longer need to pass a value to `inputs` as it is being automatically inferred.\n",
            "WARNING:tensorflow:`add_update` `inputs` kwarg has been deprecated. You no longer need to pass a value to `inputs` as it is being automatically inferred.\n",
            "WARNING:tensorflow:`add_update` `inputs` kwarg has been deprecated. You no longer need to pass a value to `inputs` as it is being automatically inferred.\n",
            "WARNING:tensorflow:`add_update` `inputs` kwarg has been deprecated. You no longer need to pass a value to `inputs` as it is being automatically inferred.\n",
            "WARNING:tensorflow:`add_update` `inputs` kwarg has been deprecated. You no longer need to pass a value to `inputs` as it is being automatically inferred.\n"
          ],
          "name": "stdout"
        },
        {
          "output_type": "stream",
          "text": [
            "/usr/local/lib/python3.7/dist-packages/tensorflow/python/keras/engine/base_layer.py:1402: UserWarning: `layer.updates` will be removed in a future version. This property should not be used in TensorFlow 2.0, as `updates` are applied automatically.\n",
            "  warnings.warn('`layer.updates` will be removed in a future version. '\n"
          ],
          "name": "stderr"
        },
        {
          "output_type": "stream",
          "text": [
            "WARNING:tensorflow:`add_update` `inputs` kwarg has been deprecated. You no longer need to pass a value to `inputs` as it is being automatically inferred.\n",
            "WARNING:tensorflow:`add_update` `inputs` kwarg has been deprecated. You no longer need to pass a value to `inputs` as it is being automatically inferred.\n",
            "WARNING:tensorflow:`add_update` `inputs` kwarg has been deprecated. You no longer need to pass a value to `inputs` as it is being automatically inferred.\n",
            "WARNING:tensorflow:`add_update` `inputs` kwarg has been deprecated. You no longer need to pass a value to `inputs` as it is being automatically inferred.\n",
            "WARNING:tensorflow:`add_update` `inputs` kwarg has been deprecated. You no longer need to pass a value to `inputs` as it is being automatically inferred.\n",
            "WARNING:tensorflow:`add_update` `inputs` kwarg has been deprecated. You no longer need to pass a value to `inputs` as it is being automatically inferred.\n",
            "WARNING:tensorflow:`add_update` `inputs` kwarg has been deprecated. You no longer need to pass a value to `inputs` as it is being automatically inferred.\n",
            "WARNING:tensorflow:`add_update` `inputs` kwarg has been deprecated. You no longer need to pass a value to `inputs` as it is being automatically inferred.\n",
            "WARNING:tensorflow:`add_update` `inputs` kwarg has been deprecated. You no longer need to pass a value to `inputs` as it is being automatically inferred.\n",
            "WARNING:tensorflow:`add_update` `inputs` kwarg has been deprecated. You no longer need to pass a value to `inputs` as it is being automatically inferred.\n",
            "WARNING:tensorflow:`add_update` `inputs` kwarg has been deprecated. You no longer need to pass a value to `inputs` as it is being automatically inferred.\n",
            "WARNING:tensorflow:`add_update` `inputs` kwarg has been deprecated. You no longer need to pass a value to `inputs` as it is being automatically inferred.\n",
            "WARNING:tensorflow:`add_update` `inputs` kwarg has been deprecated. You no longer need to pass a value to `inputs` as it is being automatically inferred.\n",
            "WARNING:tensorflow:`add_update` `inputs` kwarg has been deprecated. You no longer need to pass a value to `inputs` as it is being automatically inferred.\n",
            "WARNING:tensorflow:`add_update` `inputs` kwarg has been deprecated. You no longer need to pass a value to `inputs` as it is being automatically inferred.\n",
            "WARNING:tensorflow:`add_update` `inputs` kwarg has been deprecated. You no longer need to pass a value to `inputs` as it is being automatically inferred.\n",
            "27/27 - 2s - loss: 1.8731 - accuracy: 0.2771 - precision: 0.0000e+00 - recall: 0.0000e+00 - f1_score: 0.0000e+00 - val_loss: 1.8093 - val_accuracy: 0.2816 - val_precision: 0.0000e+00 - val_recall: 0.0000e+00 - val_f1_score: 0.0000e+00\n",
            "Epoch 2/70\n",
            "27/27 - 1s - loss: 1.6901 - accuracy: 0.3678 - precision: 0.0000e+00 - recall: 0.0000e+00 - f1_score: 0.0000e+00 - val_loss: 1.5344 - val_accuracy: 0.4224 - val_precision: 0.0000e+00 - val_recall: 0.0000e+00 - val_f1_score: 0.0000e+00\n",
            "Epoch 3/70\n",
            "27/27 - 1s - loss: 1.4908 - accuracy: 0.4529 - precision: 0.0000e+00 - recall: 0.0000e+00 - f1_score: 0.0000e+00 - val_loss: 1.3463 - val_accuracy: 0.5298 - val_precision: 0.0000e+00 - val_recall: 0.0000e+00 - val_f1_score: 0.0000e+00\n",
            "Epoch 4/70\n",
            "27/27 - 1s - loss: 1.3811 - accuracy: 0.5104 - precision: 0.6667 - recall: 0.0035 - f1_score: 0.0070 - val_loss: 1.3766 - val_accuracy: 0.4869 - val_precision: 0.0000e+00 - val_recall: 0.0000e+00 - val_f1_score: 0.0000e+00\n",
            "Epoch 5/70\n",
            "27/27 - 1s - loss: 1.2828 - accuracy: 0.5477 - precision: 0.4400 - recall: 0.0296 - f1_score: 0.0546 - val_loss: 1.2465 - val_accuracy: 0.5704 - val_precision: 0.0000e+00 - val_recall: 0.0000e+00 - val_f1_score: 0.0000e+00\n",
            "Epoch 6/70\n",
            "27/27 - 1s - loss: 1.2019 - accuracy: 0.5688 - precision: 0.4468 - recall: 0.0204 - f1_score: 0.0388 - val_loss: 1.2822 - val_accuracy: 0.5251 - val_precision: 0.5500 - val_recall: 0.0700 - val_f1_score: 0.1227\n",
            "Epoch 7/70\n",
            "27/27 - 1s - loss: 1.2089 - accuracy: 0.5590 - precision: 0.3677 - recall: 0.0411 - f1_score: 0.0731 - val_loss: 1.1668 - val_accuracy: 0.5967 - val_precision: 0.2500 - val_recall: 0.0118 - val_f1_score: 0.0225\n",
            "Epoch 8/70\n",
            "27/27 - 1s - loss: 1.2035 - accuracy: 0.5643 - precision: 0.4387 - recall: 0.0626 - f1_score: 0.1080 - val_loss: 1.1814 - val_accuracy: 0.5776 - val_precision: 0.0000e+00 - val_recall: 0.0000e+00 - val_f1_score: 0.0000e+00\n",
            "Epoch 9/70\n",
            "27/27 - 1s - loss: 1.1041 - accuracy: 0.6011 - precision: 0.4983 - recall: 0.1004 - f1_score: 0.1608 - val_loss: 1.2907 - val_accuracy: 0.5418 - val_precision: 0.3625 - val_recall: 0.0803 - val_f1_score: 0.1310\n",
            "Epoch 10/70\n",
            "27/27 - 1s - loss: 1.0654 - accuracy: 0.6150 - precision: 0.6735 - recall: 0.2010 - f1_score: 0.3085 - val_loss: 0.9827 - val_accuracy: 0.6348 - val_precision: 0.7634 - val_recall: 0.3939 - val_f1_score: 0.5155\n",
            "Epoch 11/70\n",
            "27/27 - 1s - loss: 1.0799 - accuracy: 0.6076 - precision: 0.7127 - recall: 0.2531 - f1_score: 0.3690 - val_loss: 1.0063 - val_accuracy: 0.6158 - val_precision: 1.0000 - val_recall: 0.2409 - val_f1_score: 0.3867\n",
            "Epoch 12/70\n",
            "27/27 - 1s - loss: 1.0104 - accuracy: 0.6254 - precision: 0.6930 - recall: 0.2787 - f1_score: 0.3948 - val_loss: 1.0151 - val_accuracy: 0.6181 - val_precision: 0.5000 - val_recall: 0.0118 - val_f1_score: 0.0230\n",
            "Epoch 13/70\n",
            "27/27 - 1s - loss: 1.0195 - accuracy: 0.6266 - precision: 0.7424 - recall: 0.1615 - f1_score: 0.2530 - val_loss: 0.9390 - val_accuracy: 0.6396 - val_precision: 0.8140 - val_recall: 0.3607 - val_f1_score: 0.4909\n",
            "Epoch 14/70\n",
            "27/27 - 1s - loss: 0.9710 - accuracy: 0.6446 - precision: 0.7355 - recall: 0.2017 - f1_score: 0.3018 - val_loss: 0.9216 - val_accuracy: 0.6396 - val_precision: 0.7050 - val_recall: 0.3475 - val_f1_score: 0.4641\n",
            "Epoch 15/70\n",
            "27/27 - 1s - loss: 0.9332 - accuracy: 0.6467 - precision: 0.7190 - recall: 0.2729 - f1_score: 0.3898 - val_loss: 0.9189 - val_accuracy: 0.6587 - val_precision: 0.7897 - val_recall: 0.4035 - val_f1_score: 0.5294\n",
            "Epoch 16/70\n",
            "27/27 - 1s - loss: 1.0122 - accuracy: 0.6286 - precision: 0.7352 - recall: 0.3331 - f1_score: 0.4565 - val_loss: 0.9661 - val_accuracy: 0.6516 - val_precision: 0.5831 - val_recall: 0.5587 - val_f1_score: 0.5678\n",
            "Epoch 17/70\n",
            "27/27 - 1s - loss: 0.9465 - accuracy: 0.6603 - precision: 0.6578 - recall: 0.4315 - f1_score: 0.5183 - val_loss: 0.9343 - val_accuracy: 0.6372 - val_precision: 0.6089 - val_recall: 0.4634 - val_f1_score: 0.5246\n",
            "Epoch 18/70\n",
            "27/27 - 1s - loss: 0.9743 - accuracy: 0.6473 - precision: 0.6922 - recall: 0.3934 - f1_score: 0.4949 - val_loss: 0.9427 - val_accuracy: 0.6325 - val_precision: 0.6242 - val_recall: 0.5608 - val_f1_score: 0.5901\n",
            "Epoch 19/70\n",
            "27/27 - 1s - loss: 0.9292 - accuracy: 0.6657 - precision: 0.7351 - recall: 0.3891 - f1_score: 0.5077 - val_loss: 0.8968 - val_accuracy: 0.6850 - val_precision: 0.7081 - val_recall: 0.5359 - val_f1_score: 0.6097\n",
            "Epoch 20/70\n",
            "27/27 - 1s - loss: 0.8708 - accuracy: 0.6799 - precision: 0.7339 - recall: 0.3951 - f1_score: 0.5119 - val_loss: 0.8609 - val_accuracy: 0.6802 - val_precision: 0.7046 - val_recall: 0.5123 - val_f1_score: 0.5927\n",
            "Epoch 21/70\n",
            "27/27 - 1s - loss: 0.8750 - accuracy: 0.6844 - precision: 0.7105 - recall: 0.3807 - f1_score: 0.4932 - val_loss: 0.8246 - val_accuracy: 0.6897 - val_precision: 0.7081 - val_recall: 0.5359 - val_f1_score: 0.6097\n",
            "Epoch 22/70\n",
            "27/27 - 1s - loss: 0.8007 - accuracy: 0.7063 - precision: 0.7352 - recall: 0.4476 - f1_score: 0.5547 - val_loss: 0.9328 - val_accuracy: 0.6396 - val_precision: 0.7369 - val_recall: 0.4909 - val_f1_score: 0.5874\n",
            "Epoch 23/70\n",
            "27/27 - 1s - loss: 0.7913 - accuracy: 0.7060 - precision: 0.7566 - recall: 0.4182 - f1_score: 0.5375 - val_loss: 0.7982 - val_accuracy: 0.6897 - val_precision: 0.7531 - val_recall: 0.4853 - val_f1_score: 0.5876\n",
            "Epoch 24/70\n",
            "27/27 - 1s - loss: 0.8537 - accuracy: 0.6870 - precision: 0.7731 - recall: 0.3862 - f1_score: 0.5106 - val_loss: 0.8953 - val_accuracy: 0.6730 - val_precision: 0.5361 - val_recall: 0.6889 - val_f1_score: 0.5991\n",
            "Epoch 25/70\n",
            "27/27 - 1s - loss: 0.8165 - accuracy: 0.6983 - precision: 0.6776 - recall: 0.4022 - f1_score: 0.5007 - val_loss: 0.8755 - val_accuracy: 0.6659 - val_precision: 0.5770 - val_recall: 0.5220 - val_f1_score: 0.5444\n",
            "Epoch 26/70\n",
            "27/27 - 1s - loss: 0.7888 - accuracy: 0.7119 - precision: 0.6773 - recall: 0.5451 - f1_score: 0.5990 - val_loss: 0.8131 - val_accuracy: 0.7041 - val_precision: 0.7251 - val_recall: 0.6597 - val_f1_score: 0.6884\n",
            "Epoch 27/70\n",
            "27/27 - 1s - loss: 0.7698 - accuracy: 0.7217 - precision: 0.7415 - recall: 0.4431 - f1_score: 0.5545 - val_loss: 0.9089 - val_accuracy: 0.6659 - val_precision: 0.6343 - val_recall: 0.6772 - val_f1_score: 0.6508\n",
            "Epoch 28/70\n",
            "27/27 - 1s - loss: 0.7661 - accuracy: 0.7178 - precision: 0.7390 - recall: 0.5121 - f1_score: 0.6037 - val_loss: 0.7853 - val_accuracy: 0.7136 - val_precision: 0.6687 - val_recall: 0.5241 - val_f1_score: 0.5866\n",
            "Epoch 29/70\n",
            "27/27 - 1s - loss: 0.7788 - accuracy: 0.7199 - precision: 0.7862 - recall: 0.4136 - f1_score: 0.5383 - val_loss: 0.8533 - val_accuracy: 0.6945 - val_precision: 0.6336 - val_recall: 0.6889 - val_f1_score: 0.6590\n",
            "Epoch 30/70\n",
            "27/27 - 1s - loss: 0.7984 - accuracy: 0.7036 - precision: 0.7302 - recall: 0.5168 - f1_score: 0.6017 - val_loss: 0.8190 - val_accuracy: 0.7112 - val_precision: 0.7323 - val_recall: 0.4175 - val_f1_score: 0.5297\n",
            "Epoch 31/70\n",
            "27/27 - 0s - loss: 0.6992 - accuracy: 0.7398 - precision: 0.8132 - recall: 0.5175 - f1_score: 0.6318 - val_loss: 0.9209 - val_accuracy: 0.6945 - val_precision: 0.6975 - val_recall: 0.3204 - val_f1_score: 0.4365\n",
            "Epoch 32/70\n",
            "27/27 - 1s - loss: 0.6813 - accuracy: 0.7493 - precision: 0.7780 - recall: 0.4858 - f1_score: 0.5957 - val_loss: 0.9069 - val_accuracy: 0.6802 - val_precision: 0.6391 - val_recall: 0.6133 - val_f1_score: 0.6247\n",
            "Epoch 33/70\n",
            "27/27 - 1s - loss: 0.7432 - accuracy: 0.7190 - precision: 0.7825 - recall: 0.5056 - f1_score: 0.6099 - val_loss: 0.8610 - val_accuracy: 0.6945 - val_precision: 0.6013 - val_recall: 0.5976 - val_f1_score: 0.5955\n",
            "Epoch 34/70\n",
            "27/27 - 1s - loss: 0.7440 - accuracy: 0.7279 - precision: 0.7284 - recall: 0.5390 - f1_score: 0.6136 - val_loss: 0.8362 - val_accuracy: 0.6874 - val_precision: 0.9500 - val_recall: 0.2041 - val_f1_score: 0.3355\n",
            "Epoch 35/70\n",
            "27/27 - 1s - loss: 0.7289 - accuracy: 0.7324 - precision: 0.8188 - recall: 0.4270 - f1_score: 0.5516 - val_loss: 0.7957 - val_accuracy: 0.7184 - val_precision: 0.7311 - val_recall: 0.4888 - val_f1_score: 0.5809\n",
            "Epoch 36/70\n",
            "27/27 - 1s - loss: 0.6890 - accuracy: 0.7401 - precision: 0.7777 - recall: 0.5253 - f1_score: 0.6260 - val_loss: 0.9236 - val_accuracy: 0.6635 - val_precision: 0.7458 - val_recall: 0.2679 - val_f1_score: 0.3936\n",
            "Epoch 37/70\n",
            "27/27 - 1s - loss: 0.7297 - accuracy: 0.7383 - precision: 0.7162 - recall: 0.3895 - f1_score: 0.4973 - val_loss: 0.8530 - val_accuracy: 0.7041 - val_precision: 0.6899 - val_recall: 0.5954 - val_f1_score: 0.6355\n",
            "Epoch 38/70\n",
            "27/27 - 1s - loss: 0.6280 - accuracy: 0.7706 - precision: 0.7507 - recall: 0.5312 - f1_score: 0.6216 - val_loss: 0.8130 - val_accuracy: 0.7064 - val_precision: 0.6991 - val_recall: 0.5123 - val_f1_score: 0.5890\n",
            "Epoch 39/70\n",
            "27/27 - 1s - loss: 0.6201 - accuracy: 0.7724 - precision: 0.8068 - recall: 0.5758 - f1_score: 0.6689 - val_loss: 0.8821 - val_accuracy: 0.6897 - val_precision: 0.7540 - val_recall: 0.4674 - val_f1_score: 0.5734\n",
            "Epoch 40/70\n",
            "27/27 - 1s - loss: 0.7088 - accuracy: 0.7359 - precision: 0.8064 - recall: 0.4567 - f1_score: 0.5790 - val_loss: 0.9477 - val_accuracy: 0.6516 - val_precision: 0.5777 - val_recall: 0.6190 - val_f1_score: 0.5956\n",
            "Epoch 41/70\n",
            "27/27 - 1s - loss: 0.6555 - accuracy: 0.7614 - precision: 0.7796 - recall: 0.5324 - f1_score: 0.6325 - val_loss: 0.7979 - val_accuracy: 0.7232 - val_precision: 0.6454 - val_recall: 0.5609 - val_f1_score: 0.5960\n",
            "Epoch 42/70\n",
            "27/27 - 1s - loss: 0.5778 - accuracy: 0.7863 - precision: 0.7629 - recall: 0.4990 - f1_score: 0.6012 - val_loss: 0.8499 - val_accuracy: 0.7064 - val_precision: 0.5486 - val_recall: 0.6461 - val_f1_score: 0.5915\n",
            "Epoch 43/70\n",
            "27/27 - 1s - loss: 0.6831 - accuracy: 0.7507 - precision: 0.7395 - recall: 0.5244 - f1_score: 0.6097 - val_loss: 0.8082 - val_accuracy: 0.7255 - val_precision: 0.6256 - val_recall: 0.5801 - val_f1_score: 0.5994\n",
            "Epoch 44/70\n",
            "27/27 - 1s - loss: 0.5964 - accuracy: 0.7845 - precision: 0.8262 - recall: 0.5914 - f1_score: 0.6886 - val_loss: 0.8971 - val_accuracy: 0.6897 - val_precision: 0.6013 - val_recall: 0.5683 - val_f1_score: 0.5789\n",
            "Epoch 45/70\n",
            "27/27 - 1s - loss: 0.5778 - accuracy: 0.7860 - precision: 0.8090 - recall: 0.6046 - f1_score: 0.6915 - val_loss: 0.7416 - val_accuracy: 0.7375 - val_precision: 0.6601 - val_recall: 0.5705 - val_f1_score: 0.6087\n",
            "Epoch 46/70\n",
            "27/27 - 1s - loss: 0.5275 - accuracy: 0.8053 - precision: 0.8357 - recall: 0.6000 - f1_score: 0.6972 - val_loss: 0.9669 - val_accuracy: 0.6826 - val_precision: 0.6419 - val_recall: 0.4499 - val_f1_score: 0.5224\n",
            "Epoch 47/70\n",
            "27/27 - 1s - loss: 0.6459 - accuracy: 0.7724 - precision: 0.8123 - recall: 0.5663 - f1_score: 0.6656 - val_loss: 0.7964 - val_accuracy: 0.7351 - val_precision: 0.6499 - val_recall: 0.5587 - val_f1_score: 0.5974\n",
            "Epoch 48/70\n",
            "27/27 - 0s - loss: 0.5395 - accuracy: 0.8032 - precision: 0.8360 - recall: 0.5905 - f1_score: 0.6910 - val_loss: 0.9429 - val_accuracy: 0.7160 - val_precision: 0.6165 - val_recall: 0.4853 - val_f1_score: 0.5397\n",
            "Epoch 49/70\n",
            "27/27 - 1s - loss: 0.5245 - accuracy: 0.8050 - precision: 0.8884 - recall: 0.6440 - f1_score: 0.7445 - val_loss: 0.7884 - val_accuracy: 0.7422 - val_precision: 0.6549 - val_recall: 0.6037 - val_f1_score: 0.6262\n",
            "Epoch 50/70\n",
            "27/27 - 1s - loss: 0.5232 - accuracy: 0.8103 - precision: 0.8390 - recall: 0.6240 - f1_score: 0.7146 - val_loss: 0.8481 - val_accuracy: 0.7279 - val_precision: 0.6929 - val_recall: 0.5683 - val_f1_score: 0.6220\n",
            "Epoch 51/70\n",
            "27/27 - 1s - loss: 0.5749 - accuracy: 0.7836 - precision: 0.8505 - recall: 0.5399 - f1_score: 0.6591 - val_loss: 0.8221 - val_accuracy: 0.7494 - val_precision: 0.7141 - val_recall: 0.5919 - val_f1_score: 0.6451\n",
            "Epoch 52/70\n",
            "27/27 - 1s - loss: 0.5169 - accuracy: 0.8056 - precision: 0.8035 - recall: 0.5949 - f1_score: 0.6829 - val_loss: 0.8132 - val_accuracy: 0.7446 - val_precision: 0.7593 - val_recall: 0.6147 - val_f1_score: 0.6729\n",
            "Epoch 53/70\n",
            "27/27 - 1s - loss: 0.4584 - accuracy: 0.8340 - precision: 0.8791 - recall: 0.6530 - f1_score: 0.7482 - val_loss: 0.7626 - val_accuracy: 0.7589 - val_precision: 0.7190 - val_recall: 0.5801 - val_f1_score: 0.6393\n",
            "Epoch 54/70\n",
            "27/27 - 1s - loss: 0.5092 - accuracy: 0.8168 - precision: 0.8286 - recall: 0.5039 - f1_score: 0.6179 - val_loss: 0.7522 - val_accuracy: 0.7637 - val_precision: 0.9161 - val_recall: 0.5587 - val_f1_score: 0.6928\n",
            "Epoch 55/70\n",
            "27/27 - 1s - loss: 0.4640 - accuracy: 0.8331 - precision: 0.8530 - recall: 0.6132 - f1_score: 0.7088 - val_loss: 0.9463 - val_accuracy: 0.7088 - val_precision: 0.6736 - val_recall: 0.5919 - val_f1_score: 0.6273\n",
            "Epoch 56/70\n",
            "27/27 - 1s - loss: 0.4968 - accuracy: 0.8156 - precision: 0.8254 - recall: 0.6351 - f1_score: 0.7174 - val_loss: 0.7780 - val_accuracy: 0.7542 - val_precision: 0.7422 - val_recall: 0.6536 - val_f1_score: 0.6917\n",
            "Epoch 57/70\n",
            "27/27 - 1s - loss: 0.4251 - accuracy: 0.8411 - precision: 0.8557 - recall: 0.6927 - f1_score: 0.7653 - val_loss: 0.8403 - val_accuracy: 0.7327 - val_precision: 0.7714 - val_recall: 0.5123 - val_f1_score: 0.6138\n",
            "Epoch 58/70\n",
            "27/27 - 1s - loss: 0.4779 - accuracy: 0.8257 - precision: 0.8972 - recall: 0.6789 - f1_score: 0.7710 - val_loss: 0.8389 - val_accuracy: 0.7494 - val_precision: 0.6359 - val_recall: 0.7317 - val_f1_score: 0.6793\n",
            "Epoch 59/70\n",
            "27/27 - 1s - loss: 0.4309 - accuracy: 0.8468 - precision: 0.9015 - recall: 0.6767 - f1_score: 0.7722 - val_loss: 0.8725 - val_accuracy: 0.7542 - val_precision: 0.6363 - val_recall: 0.7531 - val_f1_score: 0.6892\n",
            "Epoch 60/70\n",
            "27/27 - 1s - loss: 0.4248 - accuracy: 0.8494 - precision: 0.8648 - recall: 0.7613 - f1_score: 0.8091 - val_loss: 0.8074 - val_accuracy: 0.7494 - val_precision: 0.6943 - val_recall: 0.5940 - val_f1_score: 0.6395\n",
            "Epoch 61/70\n",
            "27/27 - 1s - loss: 0.4450 - accuracy: 0.8328 - precision: 0.8184 - recall: 0.7009 - f1_score: 0.7535 - val_loss: 0.8178 - val_accuracy: 0.7613 - val_precision: 0.8073 - val_recall: 0.5919 - val_f1_score: 0.6803\n",
            "Epoch 62/70\n",
            "27/27 - 1s - loss: 0.3750 - accuracy: 0.8657 - precision: 0.9153 - recall: 0.7076 - f1_score: 0.7965 - val_loss: 0.8775 - val_accuracy: 0.7446 - val_precision: 0.8092 - val_recall: 0.6133 - val_f1_score: 0.6958\n",
            "Epoch 63/70\n",
            "27/27 - 1s - loss: 0.3850 - accuracy: 0.8610 - precision: 0.8403 - recall: 0.7693 - f1_score: 0.8029 - val_loss: 0.8863 - val_accuracy: 0.7351 - val_precision: 0.6253 - val_recall: 0.7781 - val_f1_score: 0.6923\n",
            "Epoch 64/70\n",
            "27/27 - 1s - loss: 0.3947 - accuracy: 0.8560 - precision: 0.8412 - recall: 0.7760 - f1_score: 0.8061 - val_loss: 0.8624 - val_accuracy: 0.7327 - val_precision: 0.8431 - val_recall: 0.5801 - val_f1_score: 0.6858\n",
            "Epoch 65/70\n",
            "27/27 - 1s - loss: 0.3411 - accuracy: 0.8785 - precision: 0.8927 - recall: 0.7599 - f1_score: 0.8185 - val_loss: 0.8867 - val_accuracy: 0.7637 - val_precision: 0.8207 - val_recall: 0.6015 - val_f1_score: 0.6937\n",
            "Epoch 66/70\n",
            "27/27 - 1s - loss: 0.4175 - accuracy: 0.8459 - precision: 0.8339 - recall: 0.6981 - f1_score: 0.7592 - val_loss: 0.9206 - val_accuracy: 0.7303 - val_precision: 0.7641 - val_recall: 0.5159 - val_f1_score: 0.6116\n",
            "Epoch 67/70\n",
            "27/27 - 1s - loss: 0.4222 - accuracy: 0.8480 - precision: 0.8117 - recall: 0.6477 - f1_score: 0.7173 - val_loss: 0.8322 - val_accuracy: 0.7422 - val_precision: 0.6669 - val_recall: 0.5455 - val_f1_score: 0.5986\n",
            "Epoch 68/70\n",
            "27/27 - 1s - loss: 0.3275 - accuracy: 0.8847 - precision: 0.8822 - recall: 0.8273 - f1_score: 0.8531 - val_loss: 1.0357 - val_accuracy: 0.7184 - val_precision: 0.5474 - val_recall: 0.8113 - val_f1_score: 0.6531\n",
            "Epoch 69/70\n",
            "27/27 - 1s - loss: 0.3506 - accuracy: 0.8737 - precision: 0.8398 - recall: 0.7841 - f1_score: 0.8096 - val_loss: 0.9471 - val_accuracy: 0.7184 - val_precision: 0.6857 - val_recall: 0.6251 - val_f1_score: 0.6520\n",
            "Epoch 70/70\n",
            "27/27 - 1s - loss: 0.3499 - accuracy: 0.8720 - precision: 0.9138 - recall: 0.7766 - f1_score: 0.8393 - val_loss: 0.9757 - val_accuracy: 0.7303 - val_precision: 0.6861 - val_recall: 0.6986 - val_f1_score: 0.6885\n"
          ],
          "name": "stdout"
        }
      ]
    },
    {
      "cell_type": "code",
      "metadata": {
        "colab": {
          "base_uri": "https://localhost:8080/"
        },
        "id": "ldH_FKAeuwMT",
        "outputId": "b4907755-260d-4073-8bb1-fcbd954f7664"
      },
      "source": [
        "yhat1 = model.predict(sample1)\n",
        "print(np.around(yhat1 , decimals = 3))\n",
        "\n",
        "yhat2 = model.predict(sample2)\n",
        "print(np.around(yhat2 , decimals = 3))\n",
        "\n",
        "yhat3 = model.predict(sample3)\n",
        "print(np.around(yhat3 , decimals = 3))\n"
      ],
      "execution_count": 255,
      "outputs": [
        {
          "output_type": "stream",
          "text": [
            "[[0.032 0.728 0.008 0.    0.231 0.    0.   ]]\n",
            "[[0.063 0.48  0.132 0.06  0.003 0.194 0.066]]\n",
            "[[0.781 0.001 0.037 0.    0.08  0.002 0.099]]\n"
          ],
          "name": "stdout"
        }
      ]
    },
    {
      "cell_type": "markdown",
      "metadata": {
        "id": "ehuuNOgHpKsM"
      },
      "source": [
        "<div dir=rtl>\n",
        "قسمت الف :\n",
        "<br>\n",
        "در این شبکه از سه لایه پنهان با به ترتیب ۱۰۰ و ۷۰ و ۵۰ نرون استفاده شده است\n",
        "<br>\n",
        "دقت شبکه در آخرین اچرایی که بنده از آن گرفتم 0.764 بود . اما این مقدار در نوسان است و در کمترین حالتی که بنده از آن مشاهده کردم در بهترین حالتی که بنده از آن مشاهده کردم به ۷۸٫۴ و کمترین حالت نیز ۷۲ می رسد\n",
        "<br>\n",
        "این شبکه دارای بیش برازش است. سعی شده است تا آنجا که ممکن است از این موضوع جلوگیری شود. برای از بین بردن بیش برازش می توان شبکه را کمی سبک کرد. به عنوان مثال نرون های لایه های پنهان را کاهش داد و یا لایه ها را کمتر کرد.\n",
        "همچنین یکی از راه های از بین بردن بیش برازش استفاده از dropout است.\n",
        "<br>\n",
        "دقت برای داده های آموزش و ارزیابی به ترتیب 0.8100 و 0.77 است.\n",
        "<br>\n",
        "این مقدار میتوانست بیشتر باشد اما برای جلوگیری از بیش برازش بیشتر شبکه را بزرگ تر نکردم\n",
        "</div>"
      ]
    },
    {
      "cell_type": "markdown",
      "metadata": {
        "id": "KyyA_1Hg6U_6"
      },
      "source": [
        "<div dir=rtl>\n",
        "<br>\n",
        "\n",
        "<br>\n",
        "<br>\n",
        "\n",
        "قسمت ب :\n",
        "<br>\n",
        "۵ مقدار برای نرخ یادگیری تست شده است که به شرح زیر است :\n",
        "<br>\n",
        "learning rate = 0.001 ====> accuracy = 0.765\n",
        "<br>\n",
        "learning rate = 0.008 ====> accuracy = 0.712\n",
        "<br>\n",
        "learning rate = 0.01 ====> accuracy = 0.701\n",
        "<br>\n",
        "learning rate = 0.2 ====> accuracy = 0.317\n",
        "<br>\n",
        "learning rate = 1 ====> accuracy = 0.317\n",
        "<br>\n",
        "نرخ یادگیری تعیین میکند که در نزول گرادیانی ، شبکه با چه سرعتی پیش رود.\n",
        "<br>\n",
        "اگر نرخ یادگیری را کم بگیریم برای رسیدن به دقت مناسب نیاز به ایپاک های بیشتری داریم و در مقابل اگر نرخ یادگیری را زیاد بگیریم در ایپاک های کمتری به همگرایی می رسیم\n",
        "<br>\n",
        "نرخ یادگیری بزرگ باعث می شود که به سرعت به یک راه حل غیر بهینه برسیم و در مقابل نیز اگر نرخ یادگیری خیلی خیلی کوچک باشد باشد این \n",
        "احتمال وجود دارد که در بهینه محلی گیر کند\n",
        "<br>\n",
        "<br>\n",
        "<br>\n",
        "<br>\n",
        "<br>\n",
        "\n",
        "در این قسمت ۵ مقدار مختلف برای minibach را تست میکنیم که حاصل آن به صورت زیر است :\n",
        "<br>\n",
        "batch size = 8 =========> Accuracy: 0.740\n",
        "<br>\n",
        "batch size = 64 ========> Accuracy: 0.727\n",
        "<br>\n",
        "batch size = 128 =======> Accuracy: 0.756\n",
        "<br>\n",
        "batch size = 256 =======> Accuracy: 0.738\n",
        "<br>\n",
        "batch size = 512 =======> Accuracy: 0.722\n",
        "<br>\n",
        "batch size = 1000 ======> Accuracy: 0.678\n",
        "\n",
        "<br>\n",
        "batch size در واقع تعداد ورودی هاییست که به شبکه داده می شود تا در هر تکرار بر روی آن ها کار کند.\n",
        "<br>\n",
        "هر چه انداره batch را بیشتر کنیم سرعت اجرا بیشتر خواهد شد\n",
        "<br>\n",
        "\n",
        "انتخاب بهترین اندازه برای batch  راه حل دقیقی ندارد و این کار با توجه به حجم داده ها و گرافیک سیستم با آزمون و خطا تعیین می شود\n",
        "<br>\n",
        "\n",
        "</div>"
      ]
    },
    {
      "cell_type": "markdown",
      "metadata": {
        "id": "gxlUkFcuzYQ_"
      },
      "source": [
        "<div \n",
        "\n"
      ]
    },
    {
      "cell_type": "markdown",
      "metadata": {
        "id": "wqrKCw6GKYeP"
      },
      "source": [
        "<div dir=rtl>\n",
        "قسمت ج :\n",
        "<br>\n",
        "در این قسمت ۳ مقدار مختلف برای لایه ها و شبکه تست می شود که به صورت زیر است :\n",
        "<br>\n",
        "۱) اگر شبکه را با سه لایه پنهان و تعداد نورون های به ترتیب ۱۰۰ و ۷۰ و ۵۰ تعیین کنیم دقت حاصل برابر با ۰٫۷۶۱ می شود\n",
        "<br>\n",
        "۲) اگر شبکه را با ۱ لایه پنهان و با 20 نرون پیاده سازی کنیم مقدار  دقت برابر     می شود با 0.59\n",
        "<br>\n",
        "اگر شبکه را با ۵ لایه و تعداد نرون های ۵۰۰ و ۴۰۰ و ۳۰۰ و ۲۰۰ و ۱۰۰ \n",
        "طراحی کنیم دقت برابر ۰٫۷۱ خواهد شد اما بیش برازش رخ خواهد داد\n",
        "<br>\n",
        "نتیجه ای که گرفته می شود این است که اگر شبکه را خیلی کوچک بگیریم نمیتوانیم به دقت دلخواه برسیم و underfit رخ می دهد و شبکه به خوبی آموزش نمی بیند.\n",
        "<br>\n",
        "در ظرف مقابل نیز اگر شبکه را بیش از حد بزرگ کنیم باز هم شبکه حاصل خوبی نخواهد داشت و overfit رخ خواهد داد \n",
        "</div>"
      ]
    },
    {
      "cell_type": "markdown",
      "metadata": {
        "id": "67ISTtfvTODY"
      },
      "source": [
        "<div dir=rtl>\n",
        "<br>\n",
        "\n",
        "قسمت د :\n",
        "<br>\n",
        "\n",
        "در این بخش الگوریتم های مختلف بهینه سازی را تست میکنیم :\n",
        "<br>\n",
        "ADAM : Accuracy: 0.756\n",
        "<br>\n",
        "SGD  : Accuracy: 0.525\n",
        "<br>\n",
        "RMSPROP : Accuracy: 0.579\n",
        "<br>\n",
        "ADAgrad : Accuracy: 0.629\n",
        "<br>\n",
        "به طور کلی بهینه ساز ادام عملکرد بهتری دارد\n",
        "<br>\n",
        "هر سه روش  adamو  adagrad وrmsprob  به این صورت کار میکند که که از یک نرخ یادگیری به ازای هر پارامتر برای یادگیری استفاده می کنند که این نرخ یادگیری به وسیله متوسط مقادیر بدست آمده گرادیان های بدست آمده بدست می آید.\n",
        "<br>\n",
        "نکته دیگری که وجود دارد این است که نوسان موجود در روش SGD بیشتر از سایر روش هاست و ادام با نوسان کمتری جلو می رود\n",
        "\n",
        "</div>"
      ]
    },
    {
      "cell_type": "markdown",
      "metadata": {
        "id": "-M_l3dvvQJkl"
      },
      "source": [
        "<div dir=rtl>\n",
        "قسمت ه :\n",
        "<br>\n",
        "در این قسمت به وسیله model.predict احتمال هر عکس را برای هر کدام از ۷ حالت بیرون می کشیم.\n",
        "<br>\n",
        "پس از بررسی چندین تصویر سه تصویر انتخاب شده تصاویر ۱۲ و ۲۰ و ۲۶ بودند که قطعیت پاییینی داشتند.\n",
        "<br>\n",
        "احتمالات آن ها به ترتیب به صورت زیر است :\n",
        "<br>\n",
        "\n",
        "[[0.363 0.218 0.025 0.    0.223 0.004 0.167]]\n",
        "<br>\n",
        "\n",
        "[[0.141 0.131 0.039 0.134 0.015 0.085 0.454]]\n",
        "<br>\n",
        "\n",
        "[[0.377 0.001 0.077 0.    0.043 0.206 0.296]]\n",
        "<br>\n",
        "برای اینکه این سه تصویر نیز با قطعیت بالایی دسته بندی شوند لایه ها و نرون ها را بیشتر میکنیم تا روی داده های آموزش عملکرد بهتری پیدا کنند.\n",
        "<br>\n",
        "پس از اینکه این کار انجام شد حاصل احتالات تصاویر به صورت زیر در خواهد آمد :\n",
        "<br>\n",
        "[[0.032 0.728 0.008 0.    0.231 0.    0.   ]]\n",
        "[[0.063 0.48  0.132 0.06  0.003 0.194 0.066]]\n",
        "[[0.781 0.001 0.037 0.    0.08  0.002 0.099]]\n",
        "\n",
        "<br>\n",
        "همانطور که مشخص است قطعیت این تصویر تا حد خوبی بهبود یافته است\n",
        "\n",
        "</div>"
      ]
    }
  ]
}